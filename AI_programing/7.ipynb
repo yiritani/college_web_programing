{
 "cells": [
  {
   "cell_type": "code",
   "execution_count": 1,
   "outputs": [],
   "source": [
    "import numpy as np"
   ],
   "metadata": {
    "collapsed": false,
    "pycharm": {
     "name": "#%%\n"
    }
   }
  },
  {
   "cell_type": "code",
   "execution_count": 2,
   "outputs": [],
   "source": [
    "a = np.array([[1, 2], [-3, 4]])\n",
    "b = np.array([[4, 5, 6], [7, 8, 9]])\n",
    "c = np.array([[-2, 3], [0, 2], [1, -1]])"
   ],
   "metadata": {
    "collapsed": false,
    "pycharm": {
     "name": "#%%\n"
    }
   }
  },
  {
   "cell_type": "code",
   "execution_count": 6,
   "outputs": [
    {
     "data": {
      "text/plain": "array([[-12,  72],\n       [-14,  64]])"
     },
     "execution_count": 6,
     "metadata": {},
     "output_type": "execute_result"
    }
   ],
   "source": [
    "np.dot(a, np.dot(b, c))"
   ],
   "metadata": {
    "collapsed": false,
    "pycharm": {
     "name": "#%%\n"
    }
   }
  },
  {
   "cell_type": "code",
   "execution_count": 7,
   "outputs": [
    {
     "data": {
      "text/plain": "array([[-12,  72],\n       [-14,  64]])"
     },
     "execution_count": 7,
     "metadata": {},
     "output_type": "execute_result"
    }
   ],
   "source": [
    "np.dot(np.dot(a, b), c)"
   ],
   "metadata": {
    "collapsed": false,
    "pycharm": {
     "name": "#%%\n"
    }
   }
  },
  {
   "cell_type": "code",
   "execution_count": 1,
   "outputs": [],
   "source": [
    "def __init__(self,\n",
    "    input_neurons, # 入力層のニューロン数\n",
    "    hidden_neurons, # 隠れ層のニューロン数\n",
    "    output_neurons, # 出力層のニューロン数\n",
    "    learning_rate # 学習率\n",
    "    ):\n",
    "    # 入力層、隠れ層、出力層のニューロン数をインスタンス変数に代入\n",
    "    self.inneurons = input_neurons # 入力層のニューロン数\n",
    "    self.hneurons = hidden_neurons # 隠れ層のニューロン数\n",
    "    self.oneurons = output_neurons # 出力層のニューロン数\n",
    "    # 学習率をインスタンス変数に代入\n",
    "    self.lr = learning_rate"
   ],
   "metadata": {
    "collapsed": false,
    "pycharm": {
     "name": "#%%\n"
    }
   }
  },
  {
   "cell_type": "code",
   "execution_count": 2,
   "outputs": [
    {
     "ename": "NameError",
     "evalue": "name 'neuralNetwork' is not defined",
     "output_type": "error",
     "traceback": [
      "\u001B[0;31m---------------------------------------------------------------------------\u001B[0m",
      "\u001B[0;31mNameError\u001B[0m                                 Traceback (most recent call last)",
      "Input \u001B[0;32mIn [2]\u001B[0m, in \u001B[0;36m<cell line: 6>\u001B[0;34m()\u001B[0m\n\u001B[1;32m      4\u001B[0m learning_rate \u001B[38;5;241m=\u001B[39m \u001B[38;5;241m0.1\u001B[39m \u001B[38;5;66;03m# 学習率\u001B[39;00m\n\u001B[1;32m      5\u001B[0m \u001B[38;5;66;03m# neuralNetworkオブジェクトの生成\u001B[39;00m\n\u001B[0;32m----> 6\u001B[0m n \u001B[38;5;241m=\u001B[39m \u001B[43mneuralNetwork\u001B[49m(input_neurons,\n\u001B[1;32m      7\u001B[0m hidden_neuronss,\n\u001B[1;32m      8\u001B[0m output_neurons,\n\u001B[1;32m      9\u001B[0m learning_rate)\n",
      "\u001B[0;31mNameError\u001B[0m: name 'neuralNetwork' is not defined"
     ]
    }
   ],
   "source": [
    "input_neurons = 10 # 入力層のニューロンの数\n",
    "hidden_neuronss = 10 # 隠れ層のニューロンの数\n",
    "output_neurons = 10 # 出力層のニューロンの数\n",
    "learning_rate = 0.1 # 学習率\n",
    "# neuralNetworkオブジェクトの生成\n",
    "n = neuralNetwork(input_neurons,\n",
    "hidden_neuronss,\n",
    "output_neurons,\n",
    "learning_rate)"
   ],
   "metadata": {
    "collapsed": false,
    "pycharm": {
     "name": "#%%\n"
    }
   }
  },
  {
   "cell_type": "code",
   "execution_count": 3,
   "outputs": [
    {
     "data": {
      "text/plain": "array([[-0.47112684, -1.73271482, -0.30466371],\n       [-0.69329827,  1.64566921, -0.05956412],\n       [ 1.12264264, -0.86893271,  0.84747449]])"
     },
     "execution_count": 3,
     "metadata": {},
     "output_type": "execute_result"
    }
   ],
   "source": [
    "import numpy as np\n",
    "np.random.randn(3,3)"
   ],
   "metadata": {
    "collapsed": false,
    "pycharm": {
     "name": "#%%\n"
    }
   }
  },
  {
   "cell_type": "markdown",
   "source": [],
   "metadata": {
    "collapsed": false
   }
  },
  {
   "cell_type": "code",
   "execution_count": null,
   "outputs": [],
   "source": [],
   "metadata": {
    "collapsed": false,
    "pycharm": {
     "name": "#%%\n"
    }
   }
  },
  {
   "cell_type": "code",
   "execution_count": 7,
   "outputs": [
    {
     "name": "stdout",
     "output_type": "stream",
     "text": [
      "16\n",
      "2.0\n",
      "0.5\n"
     ]
    }
   ],
   "source": [
    "print(pow(4, 2))\n",
    "print(pow(4, 0.5))\n",
    "print(pow(4, -0.5))"
   ],
   "metadata": {
    "collapsed": false,
    "pycharm": {
     "name": "#%%\n"
    }
   }
  },
  {
   "cell_type": "code",
   "execution_count": null,
   "outputs": [],
   "source": [],
   "metadata": {
    "collapsed": false,
    "pycharm": {
     "name": "#%%\n"
    }
   }
  }
 ],
 "metadata": {
  "kernelspec": {
   "display_name": "Python 3",
   "language": "python",
   "name": "python3"
  },
  "language_info": {
   "codemirror_mode": {
    "name": "ipython",
    "version": 2
   },
   "file_extension": ".py",
   "mimetype": "text/x-python",
   "name": "python",
   "nbconvert_exporter": "python",
   "pygments_lexer": "ipython2",
   "version": "2.7.6"
  }
 },
 "nbformat": 4,
 "nbformat_minor": 0
}