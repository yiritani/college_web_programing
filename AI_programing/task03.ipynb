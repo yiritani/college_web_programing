{
 "cells": [
  {
   "cell_type": "code",
   "execution_count": null,
   "outputs": [],
   "source": [
    "import numpy as np\n",
    "from keras.datasets import mnist\n",
    "\n",
    "\n",
    "class neuralNetwork:\n",
    "\tdef __init__(self,\n",
    "\t\t\t\t input_neurons,\n",
    "\t\t\t\t hidden_neurons,  # 恩机層の二 一口 数\n",
    "\t\t\t\t output_neurons,  # 出力層の二 一口 数\n",
    "\t\t\t\t learning_rate):\n",
    "\t\tself.inneurons = input_neurons\n",
    "\t\tself.hneurons = hidden_neurons\n",
    "\t\tself.oneurons = output_neurons\n",
    "\t\tself.lr = learning_rate\n",
    "\t\tself.weight_initialize()\n",
    "\n",
    "\tdef weight_initialize(self):\n",
    "\t\tself.w_h = np.random.normal(0.0,\n",
    "\t\t\t\t\t\t\t\t\tpow(self.inneurons, -0.5),\n",
    "\t\t\t\t\t\t\t\t\t(self.hneurons,\n",
    "\t\t\t\t\t\t\t\t\t self.inneurons\n",
    "\t\t\t\t\t\t\t\t\t + 1))\n",
    "\n",
    "\t\tself.w_o = np.random.normal(0.0,\n",
    "\t\t\t\t\t\t\t\t\tpow(self.hneurons, -0.5),\n",
    "\t\t\t\t\t\t\t\t\t(self.oneurons,\n",
    "\t\t\t\t\t\t\t\t\t self.hneurons\n",
    "\t\t\t\t\t\t\t\t\t + 1))\n",
    "\n",
    "\tdef activation_function(self, x):\n",
    "\t\treturn 1 / (1 + np.exp(-x))\n",
    "\n",
    "\tdef train(self, inputs_list, targets_list):\n",
    "\t\tinputs = np.array(\n",
    "\t\t\tnp.append(inputs_list, (1)),\n",
    "\t\t\tndmin=2\n",
    "\t\t).T\n",
    "\t\ttargets = np.array(targets_list, ndmin=2).T\n",
    "\t\thidden_inputs = np.dot(self.w_h, inputs)\n",
    "\t\thidden_outputs = self.activation_function(hidden_inputs)\n",
    "\t\thidden_outputs = np.append(hidden_outputs, [[1]], axis=0)\n",
    "\t\tfinal_inputs = np.dot(self.w_o, hidden_outputs)\n",
    "\t\tfinal_outputs = self.activation_function(final_inputs)\n",
    "\t\toutput_errors = targets - final_outputs\n",
    "\t\thidden_errors = np.dot(self.w_o.T, output_errors)\n",
    "\n",
    "\t\tself.w_o += self.lr * np.dot((output_errors * final_outputs * (1.0 - final_outputs)),\n",
    "\t\t\t\t\t\t\t\t\t np.transpose(hidden_outputs))\n",
    "\n",
    "\t\thidden_errors_nobias = np.delete(\n",
    "\t\t\thidden_errors,\n",
    "\t\t\tself.hneurons,\n",
    "\t\t\taxis=0)\n",
    "\t\thidden_outputs_nobias = np.delete(\n",
    "\t\t\thidden_outputs,\n",
    "\t\t\tself.hneurons,\n",
    "\t\t\taxis=0)\n",
    "\n",
    "\t\tself.w_h += self.lr * np.dot((hidden_errors_nobias * hidden_outputs_nobias * (1.0 - hidden_outputs_nobias)), np.transpose(inputs))\n",
    "\n",
    "\tdef evaluate(self, inputs_list):\n",
    "\t\tinputs = np.array(\n",
    "\t\t\tnp.append(inputs_list, [1]),\n",
    "\t\t\tndmin=2).T\n",
    "\t\thidden_inputs = np.dot(self.w_h,\n",
    "\t\t\t\t\t\t\t   inputs)\n",
    "\n",
    "\t\thidden_outputs = self.activation_function(hidden_inputs)\n",
    "\n",
    "\t\tfinal_inputs = np.dot(self.w_o, np.append(hidden_outputs, [1]), )\n",
    "\t\tfinal_outputs = self.activation_function(final_inputs)\n",
    "\t\treturn final_outputs\n",
    "\n",
    "\n",
    "(x_trains, y_trains), (x_test, y_test) = mnist.load_data()\n",
    "x_trains = x_trains.reshape((60000, 784))\n",
    "x_trains = (x_trains / 255.0 * 0.99) + 0.01\n",
    "\n"
   ],
   "metadata": {
    "collapsed": false,
    "pycharm": {
     "name": "#%%\n",
     "is_executing": true
    }
   }
  },
  {
   "cell_type": "code",
   "execution_count": null,
   "outputs": [],
   "source": [
    "import time\n",
    "\n",
    "start = time.time()\n",
    "\n",
    "input_neurons = 784\n",
    "hidden_neuronss = 200\n",
    "output_neurons = 10\n",
    "learning_rate = 0.1\n",
    "epochs = 10\n",
    "\n",
    "n = neuralNetwork(input_neurons, hidden_neuronss, output_neurons, learning_rate)\n",
    "\n",
    "\n",
    "\n",
    "for e in range(epochs):\n",
    "\tfor (inputs, target) in zip(x_trains, y_trains):\n",
    "\t\ttargets = np.zeros(output_neurons) + 0.01\n",
    "\t\ttargets[int(target)] = 0.99\n",
    "\t\tn.train(inputs, targets)\n",
    "\n",
    "print('done')\n",
    "print(\"Computation time: {0:.3f} sec\".format(time.time() - start))"
   ],
   "metadata": {
    "collapsed": false,
    "pycharm": {
     "name": "#%%\n"
    }
   }
  },
  {
   "cell_type": "code",
   "execution_count": 1,
   "outputs": [
    {
     "ename": "NameError",
     "evalue": "name 'y_test' is not defined",
     "output_type": "error",
     "traceback": [
      "\u001B[0;31m---------------------------------------------------------------------------\u001B[0m",
      "\u001B[0;31mNameError\u001B[0m                                 Traceback (most recent call last)",
      "Input \u001B[0;32mIn [1]\u001B[0m, in \u001B[0;36m<cell line: 1>\u001B[0;34m()\u001B[0m\n\u001B[0;32m----> 1\u001B[0m \u001B[43my_test\u001B[49m[\u001B[38;5;241m0\u001B[39m]\n",
      "\u001B[0;31mNameError\u001B[0m: name 'y_test' is not defined"
     ]
    }
   ],
   "source": [
    "y_test[0]"
   ],
   "metadata": {
    "collapsed": false,
    "pycharm": {
     "name": "#%%\n"
    }
   }
  },
  {
   "cell_type": "code",
   "execution_count": null,
   "outputs": [],
   "source": [
    "import matplotlib.pyplot as plt\n",
    "plt.figure(1, figsize=(12, 3.2))\n",
    "plt.subplots_adjust(wspace=0.5)\n",
    "plt.gray()\n",
    "plt.subplot(1,3,1)\n",
    "img = x_test[0, :, :].reshape((28, 28))\n",
    "plt.pcolor(255-img)\n",
    "plt.xlim(0, 27)\n",
    "plt.ylim(27,0)\n",
    "plt.show()"
   ],
   "metadata": {
    "collapsed": false,
    "pycharm": {
     "name": "#%%\n"
    }
   }
  },
  {
   "cell_type": "code",
   "execution_count": null,
   "outputs": [],
   "source": [
    "x_tests = x_test.reshape(10000, 784)\n",
    "x_tests = (x_tests / 255.0 * 0.99) + 0.01\n",
    "\n",
    "score = []\n",
    "for (inputs, correct_label) in zip(x_tests, y_test):\n",
    "\toutputs = n.evaluate(inputs)\n",
    "\ttargets = np.zeros(output_neurons) + 0.01\n",
    "\ttargets[int(correct_label)] = 0.99\n",
    "\tlabel = np.argmax(outputs)\n",
    "\tif (label == correct_label):\n",
    "\t\tscore.append(1)\n",
    "\telse:\n",
    "\t\tscore.append(0)"
   ],
   "metadata": {
    "collapsed": false,
    "pycharm": {
     "name": "#%%\n"
    }
   }
  },
  {
   "cell_type": "code",
   "execution_count": null,
   "outputs": [],
   "source": [
    "result = ['□' if i == 1 else '■' for i in score]\n",
    "print(result)"
   ],
   "metadata": {
    "collapsed": false,
    "pycharm": {
     "name": "#%%\n"
    }
   }
  },
  {
   "cell_type": "code",
   "execution_count": null,
   "outputs": [],
   "source": [
    "score_arry = np.asarray(score)\n",
    "print(\"performance =\",score_arry.sum()/score_arry.size)"
   ],
   "metadata": {
    "collapsed": false,
    "pycharm": {
     "name": "#%%\n"
    }
   }
  }
 ],
 "metadata": {
  "kernelspec": {
   "display_name": "Python 3",
   "language": "python",
   "name": "python3"
  },
  "language_info": {
   "codemirror_mode": {
    "name": "ipython",
    "version": 2
   },
   "file_extension": ".py",
   "mimetype": "text/x-python",
   "name": "python",
   "nbconvert_exporter": "python",
   "pygments_lexer": "ipython2",
   "version": "2.7.6"
  }
 },
 "nbformat": 4,
 "nbformat_minor": 0
}