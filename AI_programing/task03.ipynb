{
 "cells": [
  {
   "cell_type": "code",
   "execution_count": null,
   "outputs": [],
   "source": [
    "import numpy as np\n",
    "\n",
    "\n",
    "class neuralNetwork:\n",
    "\tdef __init__(self,\n",
    "\t\t\t\t input_neurons,\n",
    "\t\t\t\t hidden_neurons,  # 恩机層の二 一口 数\n",
    "\t\t\t\t output_neurons,  # 出力層の二 一口 数\n",
    "\t\t\t\t learning_rate):\n",
    "\t\tself.inneurons = input_neurons\n",
    "\t\tself.hneurons = hidden_neurons\n",
    "\t\tself.oneurons = output_neurons\n",
    "\t\tself.lr = learning_rate\n",
    "\t\tself.weight_initialize()\n",
    "\n",
    "\tdef weight_initialize(self):\n",
    "\t\tself.w_h = np.random.normal(0.0,\n",
    "\t\t\t\t\t\t\t\t\tpow(self.inneurons, -0.5),\n",
    "\t\t\t\t\t\t\t\t\t(self.hneurons,\n",
    "\t\t\t\t\t\t\t\t\t self.inneurons\n",
    "\t\t\t\t\t\t\t\t\t + 1))\n",
    "\n",
    "\t\tself.w_o = np.random.normal(0.0,\n",
    "\t\t\t\t\t\t\t\t\tpow(self.hneurons, -0.5),\n",
    "\t\t\t\t\t\t\t\t\t(self.oneurons,\n",
    "\t\t\t\t\t\t\t\t\t self.hneurons\n",
    "\t\t\t\t\t\t\t\t\t + 1))\n",
    "\n",
    "\tdef activation_function(self, x):\n",
    "\t\treturn 1 / (1 + np.exp(-x))\n",
    "\n",
    "\tdef train(self,\n",
    "\t\t\t  inputs_list,\n",
    "\t\t\t  targets_list  # AH/ORRI\n",
    "\t\t\t  ):\n",
    "\t\tinputs = np.array(\n",
    "\t\t\tnp.append(inputs_list, (1)),\n",
    "\t\t\tndmin=2\n",
    "\t\t).T\n",
    "\t\thidden_inputs = np.dot(self.w_h,\n",
    "\t\t\t\t\t\t\t   inputs)\n",
    "\t\thidden_outputs = self.activation_function(hidden_inputs)\n",
    "\t\thidden_outputs = np.append(hidden_outputs,\n",
    "\t\t\t\t\t\t\t\t   [[1]],\n",
    "\t\t\t\t\t\t\t\t   axis=0)\n",
    "\t\tfinal_inputs = np.dot(self.w_o,\n",
    "\t\t\t\t\t\t\t  hidden_outputs)\n",
    "\t\tfinal_outputs = self.activation_function(final_inputs)\n",
    "\t\treturn final_outputs\n"
   ],
   "metadata": {
    "collapsed": false,
    "pycharm": {
     "name": "#%%\n"
    }
   }
  },
  {
   "cell_type": "code",
   "execution_count": 1,
   "outputs": [
    {
     "ename": "NameError",
     "evalue": "name 'neuralNetwork' is not defined",
     "output_type": "error",
     "traceback": [
      "\u001B[0;31m---------------------------------------------------------------------------\u001B[0m",
      "\u001B[0;31mNameError\u001B[0m                                 Traceback (most recent call last)",
      "Input \u001B[0;32mIn [1]\u001B[0m, in \u001B[0;36m<cell line: 9>\u001B[0;34m()\u001B[0m\n\u001B[1;32m      6\u001B[0m output_neurons \u001B[38;5;241m=\u001B[39m \u001B[38;5;241m10\u001B[39m\n\u001B[1;32m      7\u001B[0m learning_rate \u001B[38;5;241m=\u001B[39m \u001B[38;5;241m0.1\u001B[39m\n\u001B[0;32m----> 9\u001B[0m n \u001B[38;5;241m=\u001B[39m \u001B[43mneuralNetwork\u001B[49m(input_neurons, hidden_neuronss, output_neurons, learning_rate)\n\u001B[1;32m     11\u001B[0m epochs \u001B[38;5;241m=\u001B[39m \u001B[38;5;241m5\u001B[39m\n\u001B[1;32m     13\u001B[0m \u001B[38;5;28;01mfor\u001B[39;00m e \u001B[38;5;129;01min\u001B[39;00m \u001B[38;5;28mrange\u001B[39m(epochs):\n",
      "\u001B[0;31mNameError\u001B[0m: name 'neuralNetwork' is not defined"
     ]
    }
   ],
   "source": [
    "import time\n",
    "\n",
    "start = time.time()\n",
    "input_neurons = 784\n",
    "hidden_neuronss = 200\n",
    "output_neurons = 10\n",
    "learning_rate = 0.1\n",
    "\n",
    "n = neuralNetwork(input_neurons, hidden_neuronss, output_neurons, learning_rate)\n",
    "\n",
    "epochs = 5\n",
    "\n",
    "for e in range(epochs):\n",
    "    for (inputs, target) in zip(x_trains, y_trains):\n",
    "        targets = np.zeros(output_neurons) + 0.01\n",
    "        targets[int(target)] = 0.99\n",
    "        n.train(inputs, targets)\n",
    "\n",
    "print('done')\n",
    "print(\"Computation time: {0:.3f} sec\".format(time.time() - start))"
   ],
   "metadata": {
    "collapsed": false,
    "pycharm": {
     "name": "#%%\n"
    }
   }
  }
 ],
 "metadata": {
  "kernelspec": {
   "display_name": "Python 3",
   "language": "python",
   "name": "python3"
  },
  "language_info": {
   "codemirror_mode": {
    "name": "ipython",
    "version": 2
   },
   "file_extension": ".py",
   "mimetype": "text/x-python",
   "name": "python",
   "nbconvert_exporter": "python",
   "pygments_lexer": "ipython2",
   "version": "2.7.6"
  }
 },
 "nbformat": 4,
 "nbformat_minor": 0
}