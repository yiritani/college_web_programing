{
 "cells": [
  {
   "cell_type": "code",
   "execution_count": 2,
   "outputs": [
    {
     "name": "stdout",
     "output_type": "stream",
     "text": [
      "[1.  0.4]\n"
     ]
    }
   ],
   "source": [
    "import numpy as np\n",
    "e3 = np.array([0.8, 0.6])\n",
    "E2 = np.array([[3.0/(3.0+1.0), 4.0/(4.0+2.0)],\n",
    "[1.0/(3.0+1.0), 2.0/(4.0+2.0)]])\n",
    "print(np.dot(E2, e3))"
   ],
   "metadata": {
    "collapsed": false,
    "pycharm": {
     "name": "#%%\n"
    }
   }
  },
  {
   "cell_type": "code",
   "execution_count": 1,
   "outputs": [],
   "source": [
    "class neuralNetwork:\n",
    "# ニューラルネットワークの初期化\n",
    "    def __init__(self,\n",
    "        input_neurons, # 入力層のニューロン数\n",
    "        hidden_neurons, # 隠れ層のニューロン数\n",
    "        output_neurons, # 出力層のニューロン数\n",
    "        learning_rate # 学習率\n",
    "        ):\n",
    "    # 入力層、隠れ層、出力層のニューロン数をインスタンス変数に代入\n",
    "        self.inneurons = input_neurons # 入力層のニューロン数\n",
    "        self.hneurons = hidden_neurons # 隠れ層のニューロン数\n",
    "        self.oneurons = output_neurons # 出力層のニューロン数\n",
    "        # 学習率をインスタンス変数に代入\n",
    "        self.lr = learning_rate\n",
    "        # weight_initialize()を呼ぶ\n",
    "        self.weight_initialize()\n",
    "    \n",
    "    def weight_initialize(self):\n",
    "        # 入力層と隠れ層の間のリンクの重みの初期値を設定\n",
    "        self.w_h = np.random.normal(0.0, # 平均は0\n",
    "        pow(self.inneurons, -0.5), # 標準偏差は入力層のニューロン数を元に計算\n",
    "        (self.hneurons, # 隠れ層のニューロン数を行数\n",
    "        self.inneurons + 1) # バイアスを加え、列数とする\n",
    "        )\n",
    "        # 隠れ層と出力層の間のリンクの重みの初期値を設定\n",
    "        self.w_o = np.random.normal(0.0, # 平均は0\n",
    "        pow(self.hneurons, -0.5), # 標準偏差は隠れ層のニューロン数を元に計算\n",
    "        (self.oneurons, # 出力層のニューロン数を行数\n",
    "        # 隠れ層のニューロン数に\n",
    "        self.hneurons + 1) # バイアスを加え、列数とする\n",
    "        )\n",
    "\n",
    "    # シグモイド関数を活性化関数として定義\n",
    "    def activation_function(self, x):\n",
    "        return 1 / (1 + np.exp(-x))\n",
    "\n",
    "    def train(self,\n",
    "        inputs_list, # 入力値の配列\n",
    "        targets_list # 目標出力の配列\n",
    "        ):\n",
    "        inputs = np.array(\n",
    "        np.append(inputs_list, [1]), # 配列の末尾にバイアスのための値「1」を追加\n",
    "        ndmin=2 # 2次元化\n",
    "        ).T\n",
    "        hidden_inputs = np.dot(self.w_h, # 入力層と隠れ層の間の重み\n",
    "        inputs # 入力値の行列\n",
    "        )\n",
    "        hidden_outputs = self.activation_function(hidden_inputs)\n",
    "        hidden_outputs = np.append(hidden_outputs, # 隠れ層の出力行列\n",
    "        [[1]], # 2次元形式でバイアス値を追加\n",
    "        axis=0 # 行を指定(列は1)\n",
    "        )\n",
    "        final_inputs = np.dot(self.w_o, # 隠れ層と出力層の間の重み\n",
    "        hidden_outputs # 隠れ層の出力\n",
    "        )\n",
    "        # 活性化関数を適用して出力層から出力する\n",
    "        final_outputs = self.activation_function(final_inputs)\n",
    "\n",
    "        return final_outputs"
   ],
   "metadata": {
    "collapsed": false,
    "pycharm": {
     "name": "#%%\n"
    }
   }
  },
  {
   "cell_type": "markdown",
   "source": [],
   "metadata": {
    "collapsed": false
   }
  },
  {
   "cell_type": "code",
   "execution_count": 2,
   "outputs": [],
   "source": [],
   "metadata": {
    "collapsed": false,
    "pycharm": {
     "name": "#%%\n"
    }
   }
  },
  {
   "cell_type": "markdown",
   "source": [],
   "metadata": {
    "collapsed": false
   }
  },
  {
   "cell_type": "code",
   "execution_count": 4,
   "outputs": [],
   "source": [],
   "metadata": {
    "collapsed": false,
    "pycharm": {
     "name": "#%%\n"
    }
   }
  },
  {
   "cell_type": "code",
   "execution_count": null,
   "outputs": [],
   "source": [],
   "metadata": {
    "collapsed": false,
    "pycharm": {
     "name": "#%%\n"
    }
   }
  }
 ],
 "metadata": {
  "kernelspec": {
   "display_name": "Python 3",
   "language": "python",
   "name": "python3"
  },
  "language_info": {
   "codemirror_mode": {
    "name": "ipython",
    "version": 2
   },
   "file_extension": ".py",
   "mimetype": "text/x-python",
   "name": "python",
   "nbconvert_exporter": "python",
   "pygments_lexer": "ipython2",
   "version": "2.7.6"
  }
 },
 "nbformat": 4,
 "nbformat_minor": 0
}