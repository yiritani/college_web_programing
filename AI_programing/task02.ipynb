{
 "cells": [
  {
   "cell_type": "code",
   "execution_count": 5,
   "metadata": {
    "collapsed": true
   },
   "outputs": [],
   "source": [
    "import numpy as np\n",
    "\n",
    "\n",
    "class neuralNetwork:\n",
    "\tdef __init__(self,\n",
    "\t\t\t\t input_neurons,\n",
    "\t\t\t\t hidden_neurons,  # 恩机層の二 一口 数\n",
    "\t\t\t\t output_neurons,  # 出力層の二 一口 数\n",
    "\t\t\t\t learning_rate):\n",
    "\t\tself.inneurons = input_neurons\n",
    "\t\tself.hneurons = hidden_neurons\n",
    "\t\tself.oneurons = output_neurons\n",
    "\t\tself.lr = learning_rate\n",
    "\t\tself.weight_initialize()\n",
    "\n",
    "\tdef weight_initialize(self):\n",
    "\t\tself.w_h = np.random.normal(0.0,\n",
    "\t\t\t\t\t\t\t\t\tpow(self.inneurons, -0.5),\n",
    "\t\t\t\t\t\t\t\t\t(self.hneurons,\n",
    "\t\t\t\t\t\t\t\t\t self.inneurons\n",
    "\t\t\t\t\t\t\t\t\t + 1))\n",
    "\n",
    "\t\tself.w_o = np.random.normal(0.0,\n",
    "\t\t\t\t\t\t\t\t\tpow(self.hneurons, -0.5),\n",
    "\t\t\t\t\t\t\t\t\t(self.oneurons,\n",
    "\t\t\t\t\t\t\t\t\t self.hneurons\n",
    "\t\t\t\t\t\t\t\t\t + 1))\n",
    "\n",
    "\tdef activation_function(self, x):\n",
    "\t\treturn 1 / (1 + np.exp(-x))\n",
    "\n",
    "\tdef train(self,\n",
    "\t\t\t  inputs_list,\n",
    "\t\t\t  targets_list  # AH/ORRI\n",
    "\t\t\t  ):\n",
    "\t\tinputs = np.array(\n",
    "\t\t\tnp.append(inputs_list, (1)),\n",
    "\t\t\tndmin=2\n",
    "\t\t).T\n",
    "\t\thidden_inputs = np.dot(self.w_h,\n",
    "\t\t\t\t\t\t\t   inputs)\n",
    "\t\thidden_outputs = self.activation_function(hidden_inputs)\n",
    "\t\thidden_outputs = np.append(hidden_outputs,\n",
    "\t\t\t\t\t\t\t\t   [[1]],\n",
    "\t\t\t\t\t\t\t\t   axis=0)\n",
    "\t\tfinal_inputs = np.dot(self.w_o,\n",
    "\t\t\t\t\t\t\t  hidden_outputs)\n",
    "\t\tfinal_outputs = self.activation_function(final_inputs)\n",
    "\t\treturn final_outputs\n"
   ]
  },
  {
   "cell_type": "code",
   "execution_count": 9,
   "outputs": [
    {
     "name": "stdout",
     "output_type": "stream",
     "text": [
      "[[0.54948379]\n",
      " [0.54842808]\n",
      " [0.40682187]]\n"
     ]
    }
   ],
   "source": [
    "input_neurons = 3\n",
    "hidden_neurons = 100\n",
    "output_neurons = 3\n",
    "learning_rate = 0.9\n",
    "n = neuralNetwork(input_neurons, hidden_neurons, output_neurons, learning_rate)\n",
    "print(n.train([1.0, 1.5, 2.0], [1.0, 1.5, 2.0]))"
   ],
   "metadata": {
    "collapsed": false,
    "pycharm": {
     "name": "#%%\n"
    }
   }
  },
  {
   "cell_type": "code",
   "execution_count": 6,
   "outputs": [],
   "source": [],
   "metadata": {
    "collapsed": false,
    "pycharm": {
     "name": "#%%\n"
    }
   }
  }
 ],
 "metadata": {
  "kernelspec": {
   "display_name": "Python 3",
   "language": "python",
   "name": "python3"
  },
  "language_info": {
   "codemirror_mode": {
    "name": "ipython",
    "version": 2
   },
   "file_extension": ".py",
   "mimetype": "text/x-python",
   "name": "python",
   "nbconvert_exporter": "python",
   "pygments_lexer": "ipython2",
   "version": "2.7.6"
  }
 },
 "nbformat": 4,
 "nbformat_minor": 0
}