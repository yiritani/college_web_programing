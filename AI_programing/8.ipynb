{
 "cells": [
  {
   "cell_type": "code",
   "execution_count": null,
   "metadata": {
    "collapsed": true,
    "pycharm": {
     "is_executing": true
    }
   },
   "outputs": [],
   "source": [
    "from keras.datasets import mnist\n",
    "(x_trains, y_trains), (x_tests, y_tests) = mnist.load_data()"
   ]
  },
  {
   "cell_type": "code",
   "execution_count": 1,
   "outputs": [
    {
     "ename": "NameError",
     "evalue": "name 'x_trains' is not defined",
     "output_type": "error",
     "traceback": [
      "\u001B[0;31m---------------------------------------------------------------------------\u001B[0m",
      "\u001B[0;31mNameError\u001B[0m                                 Traceback (most recent call last)",
      "Input \u001B[0;32mIn [1]\u001B[0m, in \u001B[0;36m<cell line: 1>\u001B[0;34m()\u001B[0m\n\u001B[0;32m----> 1\u001B[0m \u001B[38;5;28mprint\u001B[39m(\u001B[38;5;28mlen\u001B[39m(\u001B[43mx_trains\u001B[49m))\n\u001B[1;32m      2\u001B[0m \u001B[38;5;28mprint\u001B[39m(\u001B[38;5;28mlen\u001B[39m(y_trains))\n\u001B[1;32m      3\u001B[0m \u001B[38;5;28mprint\u001B[39m(\u001B[38;5;28mlen\u001B[39m(x_tests))\n",
      "\u001B[0;31mNameError\u001B[0m: name 'x_trains' is not defined"
     ]
    }
   ],
   "source": [
    "print(len(x_trains))\n",
    "print(len(y_trains))\n",
    "print(len(x_tests))\n",
    "print(len(y_tests))"
   ],
   "metadata": {
    "collapsed": false,
    "pycharm": {
     "name": "#%%\n"
    }
   }
  },
  {
   "cell_type": "code",
   "execution_count": null,
   "outputs": [],
   "source": [
    "class neuralNetwork:\n",
    "\tdef __init__(self,\n",
    "\t\t\t\t input_neurons,\n",
    "\t\t\t\t hidden_neurons,  # 恩机層の二 一口 数\n",
    "\t\t\t\t output_neurons,  # 出力層の二 一口 数\n",
    "\t\t\t\t learning_rate):\n",
    "\t\tself.inneurons = input_neurons\n",
    "\t\tself.hneurons = hidden_neurons\n",
    "\t\tself.oneurons = output_neurons\n",
    "\t\tself.lr = learning_rate\n",
    "\t\tself.weight_initialize()\n",
    "\n",
    "\tdef weight_initialize(self):\n",
    "\t\tself.w_h = np.random.normal(0.0,\n",
    "\t\t\t\t\t\t\t\t\tpow(self.inneurons, -0.5),\n",
    "\t\t\t\t\t\t\t\t\t(self.hneurons,\n",
    "\t\t\t\t\t\t\t\t\t self.inneurons\n",
    "\t\t\t\t\t\t\t\t\t + 1))\n",
    "\n",
    "\t\tself.w_o = np.random.normal(0.0,\n",
    "\t\t\t\t\t\t\t\t\tpow(self.hneurons, -0.5),\n",
    "\t\t\t\t\t\t\t\t\t(self.oneurons,\n",
    "\t\t\t\t\t\t\t\t\t self.hneurons\n",
    "\t\t\t\t\t\t\t\t\t + 1))\n",
    "\n",
    "\tdef activation_function(self, x):\n",
    "\t\treturn 1 / (1 + np.exp(-x))\n",
    "\n",
    "\tdef train(self,\n",
    "\t\t\t  inputs_list,\n",
    "\t\t\t  targets_list  # AH/ORRI\n",
    "\t\t\t  ):\n",
    "\t\tinputs = np.array(\n",
    "\t\t\tnp.append(inputs_list, (1)),\n",
    "\t\t\tndmin=2\n",
    "\t\t).T\n",
    "\t\thidden_inputs = np.dot(self.w_h,\n",
    "\t\t\t\t\t\t\t   inputs)\n",
    "\t\thidden_outputs = self.activation_function(hidden_inputs)\n",
    "\t\thidden_outputs = np.append(hidden_outputs,\n",
    "\t\t\t\t\t\t\t\t   [[1]],\n",
    "\t\t\t\t\t\t\t\t   axis=0)\n",
    "\t\tfinal_inputs = np.dot(self.w_o,\n",
    "\t\t\t\t\t\t\t  hidden_outputs)\n",
    "\t\tfinal_outputs = self.activation_function(final_inputs)\n",
    "\t\treturn final_outputs\n"
   ],
   "metadata": {
    "collapsed": false,
    "pycharm": {
     "name": "#%%\n"
    }
   }
  },
  {
   "cell_type": "code",
   "execution_count": null,
   "outputs": [],
   "source": [
    "import numpy as np\n",
    "import matplotlib.pyplot as plt\n",
    "%matplotlib inline\n",
    "plt.figure(1, figsize=(12, 3.2))\n",
    "plt.subplots_adjust(wspace=0.5)\n",
    "plt.gray()\n",
    "for id in range(3):\n",
    "    plt.subplot(1, 3, id + 1)\n",
    "    # 784個のRGB値を28×28の行列にする\n",
    "    img = x_trains[id, :, :].reshape(28, 28)\n",
    "    # 色相を反転させてプロットする\n",
    "    plt.pcolor(255 - img)\n",
    "    # 画像の正解値をプロット\n",
    "    plt.text(24, 26, \"%d\" % y_trains[id],\n",
    "    color='blue', fontsize=20)\n",
    "    plt.xlim(0, 27) # x軸を0~28の範囲\n",
    "    plt.ylim(27, 0) # y軸を28~0の範囲\n",
    "plt.show()"
   ],
   "metadata": {
    "collapsed": false,
    "pycharm": {
     "name": "#%%\n"
    }
   }
  },
  {
   "cell_type": "code",
   "execution_count": null,
   "outputs": [],
   "source": [
    "x_trains = x_trains.reshape(60000, 784)"
   ],
   "metadata": {
    "collapsed": false,
    "pycharm": {
     "name": "#%%\n"
    }
   }
  },
  {
   "cell_type": "code",
   "execution_count": null,
   "outputs": [],
   "source": [
    "x_trains = (x_trains / 255.0 * 0.99) + 0.01"
   ],
   "metadata": {
    "collapsed": false,
    "pycharm": {
     "name": "#%%\n"
    }
   }
  },
  {
   "cell_type": "code",
   "execution_count": null,
   "outputs": [],
   "source": [],
   "metadata": {
    "collapsed": false,
    "pycharm": {
     "name": "#%%\n"
    }
   }
  },
  {
   "cell_type": "code",
   "execution_count": null,
   "outputs": [],
   "source": [
    "from keras.datasets import mnist\n",
    "(x_trains, y_trains), (x_tests, y_tests) = mnist.load_data()\n",
    "# 60000x28x28の2次元配列を60000×784の行列に変換\n",
    "x_trains = x_trains.reshape(60000, 784)\n",
    "# データを255で割って0.99を掛けた後、0.01を加えてシフトする\n",
    "x_trains = (x_trains / 255.0 * 0.99) + 0.01"
   ],
   "metadata": {
    "collapsed": false,
    "pycharm": {
     "name": "#%%\n"
    }
   }
  },
  {
   "cell_type": "code",
   "execution_count": null,
   "outputs": [],
   "source": [
    "import time\n",
    "# 学習を行って結果を出力\n",
    "start = time.time() # プログラムの開始時刻を取得\n",
    "input_neurons = 784 # 入力層のニューロンの数\n",
    "hidden_neuronss = 200 # 隠れ層のニューロンの数\n",
    "output_neurons = 10 # 出力層のニューロンの数\n",
    "learning_rate = 0.1 # 学習率\n",
    "# neuralNetworkオブジェクトの生成\n",
    "n = neuralNetwork(input_neurons,\n",
    "hidden_neuronss,\n",
    "output_neurons,\n",
    "learning_rate)\n",
    "# ニューラルネットワークの学習\n",
    "# 学習を繰り返す回数\n",
    "epochs = 5\n",
    "for e in range(epochs):\n",
    "    for (inputs, target) in zip(x_trains, y_trains):\n",
    "        targets = np.zeros(output_neurons) + 0.01\n",
    "        # 正解値に対応する要素を0.99にする\n",
    "        targets[int(target)] = 0.99\n",
    "        # 学習を実行\n",
    "        n.train(inputs, # 訓練データの行列\n",
    "        targets # 目標値の行列\n",
    "        )\n",
    "print('done')\n",
    "# 処理にかかった時間を出"
   ],
   "metadata": {
    "collapsed": false,
    "pycharm": {
     "name": "#%%\n"
    }
   }
  },
  {
   "cell_type": "code",
   "execution_count": null,
   "outputs": [],
   "source": [
    "y_tests[0]"
   ],
   "metadata": {
    "collapsed": false,
    "pycharm": {
     "name": "#%%\n"
    }
   }
  }
 ],
 "metadata": {
  "kernelspec": {
   "display_name": "Python 3",
   "language": "python",
   "name": "python3"
  },
  "language_info": {
   "codemirror_mode": {
    "name": "ipython",
    "version": 2
   },
   "file_extension": ".py",
   "mimetype": "text/x-python",
   "name": "python",
   "nbconvert_exporter": "python",
   "pygments_lexer": "ipython2",
   "version": "2.7.6"
  }
 },
 "nbformat": 4,
 "nbformat_minor": 0
}