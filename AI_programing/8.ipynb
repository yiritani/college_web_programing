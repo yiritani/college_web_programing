{
 "cells": [
  {
   "cell_type": "code",
   "execution_count": 2,
   "metadata": {
    "collapsed": true
   },
   "outputs": [],
   "source": [
    "from keras.datasets import mnist\n",
    "(x_trains, y_trains), (x_tests, y_tests) = mnist.load_data()"
   ]
  },
  {
   "cell_type": "code",
   "execution_count": 3,
   "outputs": [
    {
     "name": "stdout",
     "output_type": "stream",
     "text": [
      "60000\n",
      "60000\n",
      "10000\n",
      "10000\n"
     ]
    }
   ],
   "source": [
    "print(len(x_trains))\n",
    "print(len(y_trains))\n",
    "print(len(x_tests))\n",
    "print(len(y_tests))"
   ],
   "metadata": {
    "collapsed": false,
    "pycharm": {
     "name": "#%%\n"
    }
   }
  },
  {
   "cell_type": "code",
   "execution_count": null,
   "outputs": [],
   "source": [],
   "metadata": {
    "collapsed": false,
    "pycharm": {
     "name": "#%%\n"
    }
   }
  },
  {
   "cell_type": "code",
   "execution_count": 4,
   "outputs": [
    {
     "data": {
      "text/plain": "<Figure size 864x230.4 with 3 Axes>",
      "image/png": "[encoded data removed]"
     },
     "metadata": {
      "needs_background": "light"
     },
     "output_type": "display_data"
    }
   ],
   "source": [
    "import numpy as np\n",
    "import matplotlib.pyplot as plt\n",
    "%matplotlib inline\n",
    "plt.figure(1, figsize=(12, 3.2))\n",
    "plt.subplots_adjust(wspace=0.5)\n",
    "plt.gray()\n",
    "for id in range(3):\n",
    "    plt.subplot(1, 3, id + 1)\n",
    "    # 784個のRGB値を28×28の行列にする\n",
    "    img = x_trains[id, :, :].reshape(28, 28)\n",
    "    # 色相を反転させてプロットする\n",
    "    plt.pcolor(255 - img)\n",
    "    # 画像の正解値をプロット\n",
    "    plt.text(24, 26, \"%d\" % y_trains[id],\n",
    "    color='blue', fontsize=20)\n",
    "    plt.xlim(0, 27) # x軸を0~28の範囲\n",
    "    plt.ylim(27, 0) # y軸を28~0の範囲\n",
    "plt.show()"
   ],
   "metadata": {
    "collapsed": false,
    "pycharm": {
     "name": "#%%\n"
    }
   }
  },
  {
   "cell_type": "code",
   "execution_count": 5,
   "outputs": [],
   "source": [
    "x_trains = x_trains.reshape(60000, 784)"
   ],
   "metadata": {
    "collapsed": false,
    "pycharm": {
     "name": "#%%\n"
    }
   }
  },
  {
   "cell_type": "code",
   "execution_count": 6,
   "outputs": [],
   "source": [
    "x_trains = (x_trains / 255.0 * 0.99) + 0.01"
   ],
   "metadata": {
    "collapsed": false,
    "pycharm": {
     "name": "#%%\n"
    }
   }
  },
  {
   "cell_type": "code",
   "execution_count": null,
   "outputs": [],
   "source": [
    "import numpy as np\n",
    "class neuralNetwork:\n",
    "# ニューラルネットワークの初期化\n",
    "def __init__(self,\n",
    "    input_neurons, # 入力層のニューロン数\n",
    "    hidden_neurons, # 隠れ層のニューロン数\n",
    "    output_neurons, # 出力層のニューロン数\n",
    "    learning_rate # 学習率\n",
    "    ):\n",
    "    # 入力層、隠れ層、出力層のニューロン数をインスタンス変数に代入\n",
    "    self.inneurons = input_neurons # 入力層のニューロン数\n",
    "    self.hneurons = hidden_neurons # 隠れ層のニューロン数\n",
    "    self.oneurons = output_neurons # 出力層のニューロン数\n",
    "    # 学習率をインスタンス変数に代入\n",
    "    self.lr = learning_rate\n",
    "    # weight_initialize()を呼ぶ\n",
    "    self.weight_initialize()\n",
    "\n",
    "    def weight_initialize(self):\n",
    "        # 入力層と隠れ層の間のリンクの重みの初期値を設定\n",
    "        self.w_h = np.random.normal(0.0, # 平均は0\n",
    "        pow(self.inneurons, -0.5), # 標準偏差は入力層のニューロン数を元に計算\n",
    "        (self.hneurons, # 隠れ層のニューロン数を行数\n",
    "        self.inneurons + 1) # バイアスを加え、列数とする\n",
    "        )\n",
    "        # 隠れ層と出力層の間のリンクの重みの初期値を設定\n",
    "        self.w_o = np.random.normal(0.0, # 平均は0\n",
    "        pow(self.hneurons, -0.5), # 標準偏差は隠れ層のニューロン数を元に計算\n",
    "        (self.oneurons, # 出力層のニューロン数を行数\n",
    "        # 隠れ層のニューロン数に\n",
    "        self.hneurons + 1) # バイアスを加え、列数とする\n",
    "        )\n",
    "        # シグモイド関数を活性化関数として定義\n",
    "    def activation_function(self, x):\n",
    "        return 1 / (1 + np.exp(-x))\n",
    "\n"
   ],
   "metadata": {
    "collapsed": false,
    "pycharm": {
     "name": "#%%\n"
    }
   }
  },
  {
   "cell_type": "code",
   "execution_count": 7,
   "outputs": [],
   "source": [
    "from keras.datasets import mnist\n",
    "(x_trains, y_trains), (x_tests, y_tests) = mnist.load_data()\n",
    "# 60000x28x28の2次元配列を60000×784の行列に変換\n",
    "x_trains = x_trains.reshape(60000, 784)\n",
    "# データを255で割って0.99を掛けた後、0.01を加えてシフトする\n",
    "x_trains = (x_trains / 255.0 * 0.99) + 0.01"
   ],
   "metadata": {
    "collapsed": false,
    "pycharm": {
     "name": "#%%\n"
    }
   }
  },
  {
   "cell_type": "code",
   "execution_count": 8,
   "outputs": [
    {
     "ename": "NameError",
     "evalue": "name 'neuralNetwork' is not defined",
     "output_type": "error",
     "traceback": [
      "\u001B[0;31m---------------------------------------------------------------------------\u001B[0m",
      "\u001B[0;31mNameError\u001B[0m                                 Traceback (most recent call last)",
      "Input \u001B[0;32mIn [8]\u001B[0m, in \u001B[0;36m<cell line: 9>\u001B[0;34m()\u001B[0m\n\u001B[1;32m      7\u001B[0m learning_rate \u001B[38;5;241m=\u001B[39m \u001B[38;5;241m0.1\u001B[39m \u001B[38;5;66;03m# 学習率\u001B[39;00m\n\u001B[1;32m      8\u001B[0m \u001B[38;5;66;03m# neuralNetworkオブジェクトの生成\u001B[39;00m\n\u001B[0;32m----> 9\u001B[0m n \u001B[38;5;241m=\u001B[39m \u001B[43mneuralNetwork\u001B[49m(input_neurons,\n\u001B[1;32m     10\u001B[0m hidden_neuronss,\n\u001B[1;32m     11\u001B[0m output_neurons,\n\u001B[1;32m     12\u001B[0m learning_rate)\n\u001B[1;32m     13\u001B[0m \u001B[38;5;66;03m# ニューラルネットワークの学習\u001B[39;00m\n\u001B[1;32m     14\u001B[0m \u001B[38;5;66;03m# 学習を繰り返す回数\u001B[39;00m\n\u001B[1;32m     15\u001B[0m epochs \u001B[38;5;241m=\u001B[39m \u001B[38;5;241m5\u001B[39m\n",
      "\u001B[0;31mNameError\u001B[0m: name 'neuralNetwork' is not defined"
     ]
    }
   ],
   "source": [
    "import time\n",
    "# 学習を行って結果を出力\n",
    "start = time.time() # プログラムの開始時刻を取得\n",
    "input_neurons = 784 # 入力層のニューロンの数\n",
    "hidden_neuronss = 200 # 隠れ層のニューロンの数\n",
    "output_neurons = 10 # 出力層のニューロンの数\n",
    "learning_rate = 0.1 # 学習率\n",
    "# neuralNetworkオブジェクトの生成\n",
    "n = neuralNetwork(input_neurons,\n",
    "hidden_neuronss,\n",
    "output_neurons,\n",
    "learning_rate)\n",
    "# ニューラルネットワークの学習\n",
    "# 学習を繰り返す回数\n",
    "epochs = 5\n",
    "for e in range(epochs):\n",
    "    for (inputs, target) in zip(x_trains, y_trains):\n",
    "        targets = np.zeros(output_neurons) + 0.01\n",
    "        # 正解値に対応する要素を0.99にする\n",
    "        targets[int(target)] = 0.99\n",
    "        # 学習を実行\n",
    "        n.train(inputs, # 訓練データの行列\n",
    "        targets # 目標値の行列\n",
    "        )\n",
    "print('done')\n",
    "# 処理にかかった時間を出"
   ],
   "metadata": {
    "collapsed": false,
    "pycharm": {
     "name": "#%%\n"
    }
   }
  },
  {
   "cell_type": "code",
   "execution_count": null,
   "outputs": [],
   "source": [
    "y_tests[0]"
   ],
   "metadata": {
    "collapsed": false,
    "pycharm": {
     "name": "#%%\n"
    }
   }
  }
 ],
 "metadata": {
  "kernelspec": {
   "display_name": "Python 3",
   "language": "python",
   "name": "python3"
  },
  "language_info": {
   "codemirror_mode": {
    "name": "ipython",
    "version": 2
   },
   "file_extension": ".py",
   "mimetype": "text/x-python",
   "name": "python",
   "nbconvert_exporter": "python",
   "pygments_lexer": "ipython2",
   "version": "2.7.6"
  }
 },
 "nbformat": 4,
 "nbformat_minor": 0
}