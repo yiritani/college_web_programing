{
 "cells": [
  {
   "cell_type": "code",
   "execution_count": 2,
   "metadata": {
    "collapsed": true,
    "pycharm": {
     "name": "#%%\n"
    }
   },
   "outputs": [
    {
     "name": "stderr",
     "output_type": "stream",
     "text": [
      "/var/folders/kv/flmknvjx28v73qlm1cc1j_hc0000gn/T/ipykernel_1670/3590561815.py:4: DeprecationWarning: `np.int` is a deprecated alias for the builtin `int`. To silence this warning, use `int` by itself. Doing this will not modify any behavior and is safe. When replacing `np.int`, you may wish to use e.g. `np.int64` or `np.int32` to specify the precision. If you wish to review your current use, check the release note link for additional information.\n",
      "Deprecated in NumPy 1.20; for more details and guidance: https://numpy.org/devdocs/release/1.20.0-notes.html#deprecations\n",
      "  return (x > 0).astype(np.int) # 比較した結果をint型に変換して返す\n"
     ]
    },
    {
     "data": {
      "text/plain": "<Figure size 432x288 with 1 Axes>",
      "image/png": "[encoded data removed]"
     },
     "metadata": {
      "needs_background": "light"
     },
     "output_type": "display_data"
    }
   ],
   "source": [
    "import numpy as np # numpyをインポート\n",
    "import matplotlib.pylab as plt # matplotlibのpylabをインポート\n",
    "def step_function(x):\n",
    "    return (x > 0).astype(np.int) # 比較した結果をint型に変換して返す\n",
    "x = np.arange(-5.0, 5.0, 0.01) # -5.0から5.0までを0.01刻みにした等差数列\n",
    "y = step_function(x) # 等差数列を引数にしてステップ関数を実行\n",
    "plt.plot(x, # 等差数列をx軸に設定\n",
    "y) # ステップ関数の結果をy軸にしてグラフを描く\n",
    "plt.ylim(-0.1, 1.1) # y軸の範囲を指定\n",
    "plt.grid(True) # グリッドを表示\n",
    "plt.yticks(\n",
    "[-0.5, 0.0, 0.5, 1.0, 1.5] ) # グリッドの間隔を設定\n",
    "plt.show()"
   ]
  },
  {
   "cell_type": "code",
   "execution_count": 10,
   "outputs": [
    {
     "data": {
      "text/plain": "<Figure size 432x288 with 1 Axes>",
      "image/png": "[encoded data removed]"
     },
     "metadata": {
      "needs_background": "light"
     },
     "output_type": "display_data"
    }
   ],
   "source": [
    "import numpy as np\n",
    "import matplotlib.pylab as plt\n",
    "def sigmoid(x): # シグモイド関数\n",
    "    return 1 / (1 + np.exp(-x))\n",
    "x = np.arange(-2.0, 5.0, 0.2) # -5.0から5.0までを0.01刻みにした等差数列\n",
    "y = sigmoid(x) # 等差数列を引数にしてシグモイド関数を実行\n",
    "plt.plot(x, # 等差数列をx軸に設定\n",
    "y) # シグモイド関数の結果をy軸にしてグラフを描く\n",
    "plt.ylim(-0.1, 1.1) # y軸の範囲を指定\n",
    "plt.grid(True) # グリッドを表示\n",
    "plt.yticks(\n",
    "[-0.5, 0.0, 0.5, 1.0, 1.5] ) # グリッドの間隔を設定\n",
    "plt.show()"
   ],
   "metadata": {
    "collapsed": false,
    "pycharm": {
     "name": "#%%\n"
    }
   }
  },
  {
   "cell_type": "code",
   "execution_count": 7,
   "outputs": [
    {
     "name": "stdout",
     "output_type": "stream",
     "text": [
      "[[5 5]\n",
      " [5 5]]\n",
      "[[-3 -1]\n",
      " [ 1  3]]\n",
      "[[ 8  5]\n",
      " [20 13]]\n"
     ]
    }
   ],
   "source": [
    "a = np.array([[1, 2],\n",
    "              [3, 4]])\n",
    "b = np.array([[4, 3],\n",
    "              [2, 1]])\n",
    "print(a + b)\n",
    "print(a - b)\n",
    "print(np.dot(a, b))"
   ],
   "metadata": {
    "collapsed": false,
    "pycharm": {
     "name": "#%%\n"
    }
   }
  },
  {
   "cell_type": "code",
   "execution_count": 12,
   "outputs": [
    {
     "name": "stdout",
     "output_type": "stream",
     "text": [
      "[1.  0.5] :第0層の出力\n",
      "[0.3 0.7 1.1] :第1層の入力\n"
     ]
    }
   ],
   "source": [
    "X = np.array([1.0, 0.5]) # 第0層の出力\n",
    "W1 = np.array([[0.1, 0.3, 0.5], # 第1層への重み\n",
    "[0.2, 0.4, 0.6]])\n",
    "B1 = np.array([0.1, 0.2, 0.3]) # 第1層へのバイアス\n",
    "A1 = np.dot(X, W1) + B1 # 第1層の入力\n",
    "print(X, ':第0層の出力')\n",
    "print(A1, ':第1層の入力')"
   ],
   "metadata": {
    "collapsed": false,
    "pycharm": {
     "name": "#%%\n"
    }
   }
  },
  {
   "cell_type": "code",
   "execution_count": 13,
   "outputs": [
    {
     "name": "stdout",
     "output_type": "stream",
     "text": [
      "[0.32986398 0.80597242]\n"
     ]
    }
   ],
   "source": [
    "import numpy as np\n",
    "# シグモイド関数\n",
    "def sigmoid(x):\n",
    "    return 1 / (1 + np.exp(-x))\n",
    "# 恒等関数\n",
    "def identity(x):\n",
    "    return x\n",
    "# ニューラルネットワークの初期化を行う関数\n",
    "def create_network():\n",
    "    network = {} # ディクショナリを作成\n",
    "    network['w1'] = np.array([[0.1, 0.3, 0.5], #\n",
    "    [0.2, 0.4, 0.6]])\n",
    "    network['b1'] = np.array([0.1, 0.2, 0.3]) #\n",
    "    network['w2'] = np.array([[0.1, 0.5], #\n",
    "    [0.2, 0.7],\n",
    "    [0.3, 0.9]])\n",
    "    network['b2'] = np.array([0.1, 0.2]) #\n",
    "    network['w3'] = np.array([[0.1, 0.3], #\n",
    "    [0.2, 0.5]])\n",
    "    network['b3'] = np.array([0.1, 0.2]) #\n",
    "    return network # 重み、バイアスを返す\n",
    "def propagation(network, x):\n",
    "    # 各層への重みを変数に格納\n",
    "    w1, w2, w3 = network['w1'], network['w2'], network['w3']\n",
    "    # 各層へのバイアスを変数に格納\n",
    "    b1, b2, b3 = network['b1'], network['b2'], network['b3']\n",
    "    a1 = np.dot(x, w1) + b1 # 第1層の入力\n",
    "    z1 = sigmoid(a1) # 第1層の出力(シグモイド関数)\n",
    "    a2 = np.dot(z1, w2) + b2 # 第2層の入力\n",
    "    z2 = sigmoid(a2) # 第2層の出力(シグモイド関数)\n",
    "    a3 = np.dot(z2, w3) + b3 # 第3層の入力\n",
    "    y = identity(a3) # 第3層の出力(恒等関数)\n",
    "    return y\n",
    "\n",
    "# 実行ブロック\n",
    "network = create_network() #ニューラルネットワークの\n",
    "x = np.array([1.0, 0.5]) #第0層の出力値を設定\n",
    "y = propagation(network, x) #ニューラルネットワークの\n",
    "print(y)"
   ],
   "metadata": {
    "collapsed": false,
    "pycharm": {
     "name": "#%%\n"
    }
   }
  },
  {
   "cell_type": "code",
   "execution_count": null,
   "outputs": [],
   "source": [],
   "metadata": {
    "collapsed": false,
    "pycharm": {
     "name": "#%%\n"
    }
   }
  }
 ],
 "metadata": {
  "kernelspec": {
   "display_name": "Python 3",
   "language": "python",
   "name": "python3"
  },
  "language_info": {
   "codemirror_mode": {
    "name": "ipython",
    "version": 2
   },
   "file_extension": ".py",
   "mimetype": "text/x-python",
   "name": "python",
   "nbconvert_exporter": "python",
   "pygments_lexer": "ipython2",
   "version": "2.7.6"
  }
 },
 "nbformat": 4,
 "nbformat_minor": 0
}