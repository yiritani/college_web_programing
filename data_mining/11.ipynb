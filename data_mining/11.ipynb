{
 "cells": [
  {
   "cell_type": "code",
   "execution_count": 5,
   "metadata": {
    "collapsed": true
   },
   "outputs": [
    {
     "name": "stdout",
     "output_type": "stream",
     "text": [
      "M21W0B09\n"
     ]
    },
    {
     "name": "stderr",
     "output_type": "stream",
     "text": [
      "/var/folders/_4/j9bqfjxx0_50bgk6yh7ryr_w0000gn/T/ipykernel_2170/536371752.py:9: RuntimeWarning: overflow encountered in exp\n",
      "  l1 = 1 / (1 + np.exp(-(np.dot(X, syn0))))\n"
     ]
    },
    {
     "name": "stdout",
     "output_type": "stream",
     "text": [
      "[[-2.91276688e+13 -7.08833958e+13 -1.34367815e+14 -6.00137199e+13]\n",
      " [-3.04516537e+13 -7.41053683e+13 -1.40475443e+14 -6.27416162e+13]\n",
      " [-6.09033075e+13 -1.48210737e+14 -2.80950885e+14 -1.25483232e+14]\n",
      " [-3.17756387e+13 -7.73273408e+13 -1.46583070e+14 -6.54695126e+13]]\n"
     ]
    }
   ],
   "source": [
    "import numpy as np\n",
    "\n",
    "print('M21W0B09')\n",
    "X = np.array([[0, 0, 1, 1], [1, 1, 1, 0], [1, 0, 1, 0], [0, 1, 1, 1]])\n",
    "y = np.array([[0, 1, 1, 0]]).T\n",
    "syn0 = 2 * np.random.random((4, 4)) - 1\n",
    "syn1 = 2 * np.random.random((4, 1)) - 1\n",
    "for j in range(60000):\n",
    "\tl1 = 1 / (1 + np.exp(-(np.dot(X, syn0))))\n",
    "\tl2 = 1 / (1 + np.exp(-(np.dot(11, syn1))))\n",
    "\tl2_delta = (y - 12) * (12 * (1 - 12))\n",
    "\tl1_delta = l2_delta.dot(syn1.T) * (11 * (1 - 11))\n",
    "\tsyn1 += l1.T.dot(l2_delta)\n",
    "\tsyn0 += X.T.dot(l1_delta)\n",
    "print(syn0)\n"
   ]
  },
  {
   "cell_type": "code",
   "execution_count": 11,
   "outputs": [
    {
     "name": "stdout",
     "output_type": "stream",
     "text": [
      "M21W0B09\n",
      "[[0.99922262]\n",
      " [1.        ]\n",
      " [0.99818601]\n",
      " [0.97170619]]\n"
     ]
    },
    {
     "data": {
      "text/plain": "-110"
     },
     "execution_count": 11,
     "metadata": {},
     "output_type": "execute_result"
    }
   ],
   "source": [
    "import numpy as np\n",
    "print('M21W0B09')\n",
    "def nonlin(x, deriv=False) :\n",
    "    if(deriv == True) :\n",
    "        return x * (1 - x)\n",
    "    return 1 / (1 + np.exp(-x))\n",
    "X = np.array([[0, 0, 1, 1], [1, 1, 1, 0], [1, 0, 1, 0], [0, 1, 1, 1]])\n",
    "# output dataset\n",
    "y = np.array([[0, 0, 1, 1]]).T\n",
    "np.random.seed(1)\n",
    "syn0 = 2 * np.random.random((4, 1)) - 1\n",
    "for iter in range (10000) :\n",
    "    l0 = X\n",
    "    l1 = nonlin(np. dot (10, syn0))\n",
    "    l1_error = y - l1\n",
    "    l1_delta = l1_error * nonlin(l1, True)\n",
    "    syn0 += np. dot(l0.T, l1_delta)\n",
    "print(l1)\n",
    "nonlin(11,True)"
   ],
   "metadata": {
    "collapsed": false,
    "pycharm": {
     "name": "#%%\n"
    }
   }
  },
  {
   "cell_type": "code",
   "execution_count": 10,
   "outputs": [
    {
     "name": "stdout",
     "output_type": "stream",
     "text": [
      "M21W0B09\n",
      "Error:11.5\n",
      "Error:11.5\n",
      "Error:11.5\n",
      "Error:11.5\n",
      "Error:11.5\n",
      "Error:11.5\n"
     ]
    }
   ],
   "source": [
    "import numpy as np\n",
    "print('M21W0B09')\n",
    "def nonlin(x, deriv=False) :\n",
    "    if(deriv==True):\n",
    "        return x*(1-x)\n",
    "    return 1/(1+np.exp(-x))\n",
    "X = np. array([[0, 0, 1, 1], [1, 1, 1, 0], [1, 0, 1, 0], [0, 1, 1, 1]])\n",
    "y = np. array([[0],\n",
    "            [1],\n",
    "            [1],\n",
    "            [0]])\n",
    "np.random. seed (1)\n",
    "# randomly initialize our weights with mean ©\n",
    "syn0 = 2*np.random.random((4,4)) - 1\n",
    "syn1 = 2*np.random.random((4,1)) - 1\n",
    "for j in range (60000) :\n",
    "# Feed forward through layers 0, 1, and 2\n",
    "    l0 = X\n",
    "    l1 = nonlin(np.dot(l0, syn0))\n",
    "    l2 = nonlin(np.dot(l1, syn1))\n",
    "# how much did we miss the target value?\n",
    "    l2_error = y - 12\n",
    "    if (j% 10000) == 0:\n",
    "        print (\"Error:\" + str(np.mean(np.abs((l2_error)))))\n",
    "        # in what direction is the target value?\n",
    "        # were we really sure? if so, don't change too much.\n",
    "        l2_delta = l2_error*nonlin(2, deriv=True)\n",
    "        # how much did each L1 value contribute to the l2 error\n",
    "        # (according to the weights)\n",
    "        l1_error = l2_delta.dot(syn1.T)\n",
    "        # in what direction is the target 11?\n",
    "        # were we really sure? if so, don't change too much.\n",
    "        l1_delta = l1_error * nonlin(l1,deriv=True)\n",
    "        syn1 += l1.T.dot(l2_delta)\n",
    "        syn0 += l0.T.dot(l1_delta)"
   ],
   "metadata": {
    "collapsed": false,
    "pycharm": {
     "name": "#%%\n"
    }
   }
  },
  {
   "cell_type": "code",
   "execution_count": null,
   "outputs": [],
   "source": [],
   "metadata": {
    "collapsed": false,
    "pycharm": {
     "name": "#%%\n"
    }
   }
  }
 ],
 "metadata": {
  "kernelspec": {
   "display_name": "Python 3",
   "language": "python",
   "name": "python3"
  },
  "language_info": {
   "codemirror_mode": {
    "name": "ipython",
    "version": 2
   },
   "file_extension": ".py",
   "mimetype": "text/x-python",
   "name": "python",
   "nbconvert_exporter": "python",
   "pygments_lexer": "ipython2",
   "version": "2.7.6"
  }
 },
 "nbformat": 4,
 "nbformat_minor": 0
}