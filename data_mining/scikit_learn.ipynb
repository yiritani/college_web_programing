{
 "cells": [
  {
   "cell_type": "code",
   "execution_count": 1,
   "metadata": {
    "collapsed": true
   },
   "outputs": [
    {
     "name": "stdout",
     "output_type": "stream",
     "text": [
      "(150, 4)\n",
      "['setosa' 'versicolor' 'virginica']\n"
     ]
    }
   ],
   "source": [
    "from sklearn.datasets import load_iris\n",
    "iris = load_iris()\n",
    "\n",
    "print (iris.data.shape)\n",
    "print (iris.target_names)"
   ]
  },
  {
   "cell_type": "code",
   "execution_count": 3,
   "outputs": [
    {
     "name": "stdout",
     "output_type": "stream",
     "text": [
      "[5.1 3.5 1.4 0.2] 0\n",
      "[4.9 3.  1.4 0.2] 0\n",
      "[4.7 3.2 1.3 0.2] 0\n",
      "[4.6 3.1 1.5 0.2] 0\n",
      "[5.  3.6 1.4 0.2] 0\n",
      "[5.4 3.9 1.7 0.4] 0\n",
      "[4.6 3.4 1.4 0.3] 0\n",
      "[5.  3.4 1.5 0.2] 0\n",
      "[4.4 2.9 1.4 0.2] 0\n",
      "[4.9 3.1 1.5 0.1] 0\n",
      "[5.4 3.7 1.5 0.2] 0\n",
      "[4.8 3.4 1.6 0.2] 0\n",
      "[4.8 3.  1.4 0.1] 0\n",
      "[4.3 3.  1.1 0.1] 0\n",
      "[5.8 4.  1.2 0.2] 0\n",
      "[5.7 4.4 1.5 0.4] 0\n",
      "[5.4 3.9 1.3 0.4] 0\n",
      "[5.1 3.5 1.4 0.3] 0\n",
      "[5.7 3.8 1.7 0.3] 0\n",
      "[5.1 3.8 1.5 0.3] 0\n",
      "[5.4 3.4 1.7 0.2] 0\n",
      "[5.1 3.7 1.5 0.4] 0\n",
      "[4.6 3.6 1.  0.2] 0\n",
      "[5.1 3.3 1.7 0.5] 0\n",
      "[4.8 3.4 1.9 0.2] 0\n",
      "[5.  3.  1.6 0.2] 0\n",
      "[5.  3.4 1.6 0.4] 0\n",
      "[5.2 3.5 1.5 0.2] 0\n",
      "[5.2 3.4 1.4 0.2] 0\n",
      "[4.7 3.2 1.6 0.2] 0\n",
      "[4.8 3.1 1.6 0.2] 0\n",
      "[5.4 3.4 1.5 0.4] 0\n",
      "[5.2 4.1 1.5 0.1] 0\n",
      "[5.5 4.2 1.4 0.2] 0\n",
      "[4.9 3.1 1.5 0.2] 0\n",
      "[5.  3.2 1.2 0.2] 0\n",
      "[5.5 3.5 1.3 0.2] 0\n",
      "[4.9 3.6 1.4 0.1] 0\n",
      "[4.4 3.  1.3 0.2] 0\n",
      "[5.1 3.4 1.5 0.2] 0\n",
      "[5.  3.5 1.3 0.3] 0\n",
      "[4.5 2.3 1.3 0.3] 0\n",
      "[4.4 3.2 1.3 0.2] 0\n",
      "[5.  3.5 1.6 0.6] 0\n",
      "[5.1 3.8 1.9 0.4] 0\n",
      "[4.8 3.  1.4 0.3] 0\n",
      "[5.1 3.8 1.6 0.2] 0\n",
      "[4.6 3.2 1.4 0.2] 0\n",
      "[5.3 3.7 1.5 0.2] 0\n",
      "[5.  3.3 1.4 0.2] 0\n",
      "[7.  3.2 4.7 1.4] 1\n",
      "[6.4 3.2 4.5 1.5] 1\n",
      "[6.9 3.1 4.9 1.5] 1\n",
      "[5.5 2.3 4.  1.3] 1\n",
      "[6.5 2.8 4.6 1.5] 1\n",
      "[5.7 2.8 4.5 1.3] 1\n",
      "[6.3 3.3 4.7 1.6] 1\n",
      "[4.9 2.4 3.3 1. ] 1\n",
      "[6.6 2.9 4.6 1.3] 1\n",
      "[5.2 2.7 3.9 1.4] 1\n",
      "[5.  2.  3.5 1. ] 1\n",
      "[5.9 3.  4.2 1.5] 1\n",
      "[6.  2.2 4.  1. ] 1\n",
      "[6.1 2.9 4.7 1.4] 1\n",
      "[5.6 2.9 3.6 1.3] 1\n",
      "[6.7 3.1 4.4 1.4] 1\n",
      "[5.6 3.  4.5 1.5] 1\n",
      "[5.8 2.7 4.1 1. ] 1\n",
      "[6.2 2.2 4.5 1.5] 1\n",
      "[5.6 2.5 3.9 1.1] 1\n",
      "[5.9 3.2 4.8 1.8] 1\n",
      "[6.1 2.8 4.  1.3] 1\n",
      "[6.3 2.5 4.9 1.5] 1\n",
      "[6.1 2.8 4.7 1.2] 1\n",
      "[6.4 2.9 4.3 1.3] 1\n",
      "[6.6 3.  4.4 1.4] 1\n",
      "[6.8 2.8 4.8 1.4] 1\n",
      "[6.7 3.  5.  1.7] 1\n",
      "[6.  2.9 4.5 1.5] 1\n",
      "[5.7 2.6 3.5 1. ] 1\n",
      "[5.5 2.4 3.8 1.1] 1\n",
      "[5.5 2.4 3.7 1. ] 1\n",
      "[5.8 2.7 3.9 1.2] 1\n",
      "[6.  2.7 5.1 1.6] 1\n",
      "[5.4 3.  4.5 1.5] 1\n",
      "[6.  3.4 4.5 1.6] 1\n",
      "[6.7 3.1 4.7 1.5] 1\n",
      "[6.3 2.3 4.4 1.3] 1\n",
      "[5.6 3.  4.1 1.3] 1\n",
      "[5.5 2.5 4.  1.3] 1\n",
      "[5.5 2.6 4.4 1.2] 1\n",
      "[6.1 3.  4.6 1.4] 1\n",
      "[5.8 2.6 4.  1.2] 1\n",
      "[5.  2.3 3.3 1. ] 1\n",
      "[5.6 2.7 4.2 1.3] 1\n",
      "[5.7 3.  4.2 1.2] 1\n",
      "[5.7 2.9 4.2 1.3] 1\n",
      "[6.2 2.9 4.3 1.3] 1\n",
      "[5.1 2.5 3.  1.1] 1\n",
      "[5.7 2.8 4.1 1.3] 1\n",
      "[6.3 3.3 6.  2.5] 2\n",
      "[5.8 2.7 5.1 1.9] 2\n",
      "[7.1 3.  5.9 2.1] 2\n",
      "[6.3 2.9 5.6 1.8] 2\n",
      "[6.5 3.  5.8 2.2] 2\n",
      "[7.6 3.  6.6 2.1] 2\n",
      "[4.9 2.5 4.5 1.7] 2\n",
      "[7.3 2.9 6.3 1.8] 2\n",
      "[6.7 2.5 5.8 1.8] 2\n",
      "[7.2 3.6 6.1 2.5] 2\n",
      "[6.5 3.2 5.1 2. ] 2\n",
      "[6.4 2.7 5.3 1.9] 2\n",
      "[6.8 3.  5.5 2.1] 2\n",
      "[5.7 2.5 5.  2. ] 2\n",
      "[5.8 2.8 5.1 2.4] 2\n",
      "[6.4 3.2 5.3 2.3] 2\n",
      "[6.5 3.  5.5 1.8] 2\n",
      "[7.7 3.8 6.7 2.2] 2\n",
      "[7.7 2.6 6.9 2.3] 2\n",
      "[6.  2.2 5.  1.5] 2\n"
     ]
    }
   ],
   "source": [
    "for data, target in zip(iris.data[:120], iris.target[:120]):\n",
    "    print(data, target)"
   ],
   "metadata": {
    "collapsed": false,
    "pycharm": {
     "name": "#%%\n"
    }
   }
  },
  {
   "cell_type": "code",
   "execution_count": 7,
   "outputs": [
    {
     "name": "stdout",
     "output_type": "stream",
     "text": [
      "[0]\n"
     ]
    }
   ],
   "source": [
    "from sklearn import svm\n",
    "from sklearn.datasets import load_iris\n",
    "\n",
    "iris = load_iris()\n",
    "\n",
    "# 学習させる\n",
    "clf = svm.SVC(gamma=\"scale\")\n",
    "clf.fit(iris.data, iris.target)\n",
    "\n",
    "# ランダムに見つけた値で分類できるかどうか確認する\n",
    "# case versicolor\n",
    "test_data = [[4.9, 3.1, 1.5, 0.2]]\n",
    "print(clf.predict(test_data))"
   ],
   "metadata": {
    "collapsed": false,
    "pycharm": {
     "name": "#%%\n"
    }
   }
  },
  {
   "cell_type": "code",
   "execution_count": 10,
   "outputs": [
    {
     "name": "stdout",
     "output_type": "stream",
     "text": [
      "正解 [1 1 0 1 0]\n",
      "推測した結果 [0 0 1 0 0]\n",
      "推測した結果の正解率 0.2\n"
     ]
    }
   ],
   "source": [
    "import numpy as np\n",
    "from sklearn import svm\n",
    "from sklearn.metrics import confusion_matrix\n",
    "data = np.loadtxt('data.csv', delimiter=',')\n",
    "y = data[:,0].astype(int)\n",
    "x = data[:,1:3]\n",
    "\n",
    "clf = svm.SVC(gamma=\"scale\")\n",
    "# 学習させる\n",
    "clf.fit(x, y)\n",
    "\n",
    "data_test = np.loadtxt('data_test.csv', delimiter=',')\n",
    "test_y = data_test[:,0].astype(int)\n",
    "test_x = data_test[:,1:3]\n",
    "\n",
    "print('正解',test_y)\n",
    "# 学習したデータと比較して推測する\n",
    "print('推測した結果',clf.predict(test_x))\n",
    "print('推測した結果の正解率',clf.score(test_x, test_y))"
   ],
   "metadata": {
    "collapsed": false,
    "pycharm": {
     "name": "#%%\n"
    }
   }
  },
  {
   "cell_type": "code",
   "execution_count": 13,
   "outputs": [
    {
     "name": "stdout",
     "output_type": "stream",
     "text": [
      "正解 [1 1 0 1 0]\n",
      "予測した結果 [0 0 0 0 0]\n",
      "予測した結果の正解率 0.4\n"
     ]
    },
    {
     "data": {
      "text/plain": "<Figure size 432x288 with 1 Axes>",
      "image/png": "[encoded data removed]"
     },
     "metadata": {},
     "output_type": "display_data"
    }
   ],
   "source": [
    "import numpy as np\n",
    "import matplotlib.pyplot as pyplot\n",
    "from sklearn import svm\n",
    "from sklearn.metrics import confusion_matrix\n",
    "from mlxtend.plotting import plot_decision_regions\n",
    "\n",
    "data = np.loadtxt('data.csv', delimiter=',')\n",
    "y = data[:,0].astype(int)\n",
    "x = data[:,1:3]\n",
    "\n",
    "clf = svm.SVC(gamma=\"auto\")\n",
    "# 学習させる\n",
    "clf.fit(x, y)\n",
    "\n",
    "data_test = np.loadtxt('data_test.csv', delimiter=',')\n",
    "test_y = data_test[:,0].astype(int)\n",
    "test_x = data_test[:,1:3]\n",
    "\n",
    "print('正解',test_y)\n",
    "# 学習したデータと比較して推測する\n",
    "print('予測した結果',clf.predict(test_x))\n",
    "print('予測した結果の正解率',clf.score(test_x, test_y))\n",
    "\n",
    "pyplot.style.use('ggplot')\n",
    "\n",
    "x_bind = np.vstack((test_x,x))\n",
    "y_bind = np.hstack((test_y,y))\n",
    "\n",
    "plot_decision_regions(x_bind, y_bind, clf=clf)\n",
    "pyplot.show()"
   ],
   "metadata": {
    "collapsed": false,
    "pycharm": {
     "name": "#%%\n"
    }
   }
  },
  {
   "cell_type": "code",
   "execution_count": null,
   "outputs": [],
   "source": [],
   "metadata": {
    "collapsed": false,
    "pycharm": {
     "name": "#%%\n"
    }
   }
  }
 ],
 "metadata": {
  "kernelspec": {
   "display_name": "Python 3",
   "language": "python",
   "name": "python3"
  },
  "language_info": {
   "codemirror_mode": {
    "name": "ipython",
    "version": 2
   },
   "file_extension": ".py",
   "mimetype": "text/x-python",
   "name": "python",
   "nbconvert_exporter": "python",
   "pygments_lexer": "ipython2",
   "version": "2.7.6"
  }
 },
 "nbformat": 4,
 "nbformat_minor": 0
}