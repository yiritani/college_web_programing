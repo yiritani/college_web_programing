{
 "cells": [
  {
   "cell_type": "code",
   "execution_count": 3,
   "outputs": [
    {
     "name": "stdout",
     "output_type": "stream",
     "text": [
      "Distance = 2\n"
     ]
    }
   ],
   "source": [
    "import Levenshtein\n",
    "\n",
    "correct_data_mining = \"データマイニング\"\n",
    "incorrect_data_mining = \"データマニイング\"\n",
    "print('Distance = ' + str(Levenshtein.distance(correct_data_mining, incorrect_data_mining)))"
   ],
   "metadata": {
    "collapsed": false,
    "pycharm": {
     "name": "#%%\n"
    }
   }
  },
  {
   "cell_type": "code",
   "execution_count": 8,
   "outputs": [
    {
     "name": "stdout",
     "output_type": "stream",
     "text": [
      "Length of LCS is  7\n"
     ]
    }
   ],
   "source": [
    "def lcs(X, Y, m, n):\n",
    "\n",
    "    if m == 0 or n == 0:\n",
    "       return 0\n",
    "    elif X[m-1] == Y[n-1]:\n",
    "       return 1 + lcs(X, Y, m-1, n-1)\n",
    "    else:\n",
    "       return max(lcs(X, Y, m, n-1), lcs(X, Y, m-1, n))\n",
    "\n",
    "correct_data_mining = \"データマイニング\"\n",
    "incorrect_data_mining = \"データマニイング\"\n",
    "\n",
    "print (\"Length of LCS is \", lcs(correct_data_mining, incorrect_data_mining, len(correct_data_mining), len(incorrect_data_mining)))"
   ],
   "metadata": {
    "collapsed": false,
    "pycharm": {
     "name": "#%%\n"
    }
   }
  },
  {
   "cell_type": "code",
   "execution_count": 10,
   "outputs": [
    {
     "ename": "UFuncTypeError",
     "evalue": "ufunc 'multiply' did not contain a loop with signature matching types (dtype('<U21'), dtype('int64')) -> None",
     "output_type": "error",
     "traceback": [
      "\u001B[0;31m---------------------------------------------------------------------------\u001B[0m",
      "\u001B[0;31mUFuncTypeError\u001B[0m                            Traceback (most recent call last)",
      "Input \u001B[0;32mIn [10]\u001B[0m, in \u001B[0;36m<cell line: 4>\u001B[0;34m()\u001B[0m\n\u001B[1;32m      2\u001B[0m List1 \u001B[38;5;241m=\u001B[39m [\u001B[38;5;124m'\u001B[39m\u001B[38;5;124mA\u001B[39m\u001B[38;5;124m'\u001B[39m, \u001B[38;5;241m47\u001B[39m, \u001B[38;5;241m8\u001B[39m, \u001B[38;5;241m3\u001B[39m]\n\u001B[1;32m      3\u001B[0m List2 \u001B[38;5;241m=\u001B[39m [\u001B[38;5;241m3\u001B[39m, \u001B[38;5;241m52\u001B[39m, \u001B[38;5;241m12\u001B[39m, \u001B[38;5;241m16\u001B[39m]\n\u001B[0;32m----> 4\u001B[0m result \u001B[38;5;241m=\u001B[39m \u001B[38;5;241m1\u001B[39m \u001B[38;5;241m-\u001B[39m \u001B[43mspatial\u001B[49m\u001B[38;5;241;43m.\u001B[39;49m\u001B[43mdistance\u001B[49m\u001B[38;5;241;43m.\u001B[39;49m\u001B[43mcosine\u001B[49m\u001B[43m(\u001B[49m\u001B[43mList1\u001B[49m\u001B[43m,\u001B[49m\u001B[43m \u001B[49m\u001B[43mList2\u001B[49m\u001B[43m)\u001B[49m\n\u001B[1;32m      5\u001B[0m \u001B[38;5;28mprint\u001B[39m(result)\n",
      "File \u001B[0;32m~/PycharmProjects/college/venv/lib/python3.9/site-packages/scipy/spatial/distance.py:678\u001B[0m, in \u001B[0;36mcosine\u001B[0;34m(u, v, w)\u001B[0m\n\u001B[1;32m    636\u001B[0m \u001B[38;5;124;03m\"\"\"\u001B[39;00m\n\u001B[1;32m    637\u001B[0m \u001B[38;5;124;03mCompute the Cosine distance between 1-D arrays.\u001B[39;00m\n\u001B[1;32m    638\u001B[0m \n\u001B[0;32m   (...)\u001B[0m\n\u001B[1;32m    673\u001B[0m \n\u001B[1;32m    674\u001B[0m \u001B[38;5;124;03m\"\"\"\u001B[39;00m\n\u001B[1;32m    675\u001B[0m \u001B[38;5;66;03m# cosine distance is also referred to as 'uncentered correlation',\u001B[39;00m\n\u001B[1;32m    676\u001B[0m \u001B[38;5;66;03m#   or 'reflective correlation'\u001B[39;00m\n\u001B[1;32m    677\u001B[0m \u001B[38;5;66;03m# clamp the result to 0-2\u001B[39;00m\n\u001B[0;32m--> 678\u001B[0m \u001B[38;5;28;01mreturn\u001B[39;00m \u001B[38;5;28mmax\u001B[39m(\u001B[38;5;241m0\u001B[39m, \u001B[38;5;28mmin\u001B[39m(\u001B[43mcorrelation\u001B[49m\u001B[43m(\u001B[49m\u001B[43mu\u001B[49m\u001B[43m,\u001B[49m\u001B[43m \u001B[49m\u001B[43mv\u001B[49m\u001B[43m,\u001B[49m\u001B[43m \u001B[49m\u001B[43mw\u001B[49m\u001B[38;5;241;43m=\u001B[39;49m\u001B[43mw\u001B[49m\u001B[43m,\u001B[49m\u001B[43m \u001B[49m\u001B[43mcentered\u001B[49m\u001B[38;5;241;43m=\u001B[39;49m\u001B[38;5;28;43;01mFalse\u001B[39;49;00m\u001B[43m)\u001B[49m, \u001B[38;5;241m2.0\u001B[39m))\n",
      "File \u001B[0;32m~/PycharmProjects/college/venv/lib/python3.9/site-packages/scipy/spatial/distance.py:627\u001B[0m, in \u001B[0;36mcorrelation\u001B[0;34m(u, v, w, centered)\u001B[0m\n\u001B[1;32m    625\u001B[0m     u \u001B[38;5;241m=\u001B[39m u \u001B[38;5;241m-\u001B[39m umu\n\u001B[1;32m    626\u001B[0m     v \u001B[38;5;241m=\u001B[39m v \u001B[38;5;241m-\u001B[39m vmu\n\u001B[0;32m--> 627\u001B[0m uv \u001B[38;5;241m=\u001B[39m np\u001B[38;5;241m.\u001B[39maverage(\u001B[43mu\u001B[49m\u001B[43m \u001B[49m\u001B[38;5;241;43m*\u001B[39;49m\u001B[43m \u001B[49m\u001B[43mv\u001B[49m, weights\u001B[38;5;241m=\u001B[39mw)\n\u001B[1;32m    628\u001B[0m uu \u001B[38;5;241m=\u001B[39m np\u001B[38;5;241m.\u001B[39maverage(np\u001B[38;5;241m.\u001B[39msquare(u), weights\u001B[38;5;241m=\u001B[39mw)\n\u001B[1;32m    629\u001B[0m vv \u001B[38;5;241m=\u001B[39m np\u001B[38;5;241m.\u001B[39maverage(np\u001B[38;5;241m.\u001B[39msquare(v), weights\u001B[38;5;241m=\u001B[39mw)\n",
      "\u001B[0;31mUFuncTypeError\u001B[0m: ufunc 'multiply' did not contain a loop with signature matching types (dtype('<U21'), dtype('int64')) -> None"
     ]
    }
   ],
   "source": [
    "from scipy import spatial\n",
    "List1 = ['A', 47, 8, 3]\n",
    "List2 = [3, 52, 12, 16]\n",
    "result = 1 - spatial.distance.cosine(List1, List2)\n",
    "print(result)"
   ],
   "metadata": {
    "collapsed": false,
    "pycharm": {
     "name": "#%%\n"
    }
   }
  },
  {
   "cell_type": "code",
   "execution_count": 11,
   "outputs": [],
   "source": [
    "import math\n",
    "import operator\n",
    "import typing\n",
    "\n",
    "\n",
    "class CosineSimilarity:\n",
    "    \"\"\"余弦による文字列の類似度を計算する\"\"\"\n",
    "    Vector = typing.List[float]\n",
    "\n",
    "    @staticmethod\n",
    "    def dot_product(vec1: Vector, vec2: Vector, sum=sum, map=map, mul=operator.mul) -> float:\n",
    "        \"\"\"ベクトルの内積を計算する\"\"\"\n",
    "        return sum(map(operator.mul, vec1, vec2))\n",
    "\n",
    "    @staticmethod\n",
    "    def norm(vec: Vector, sum=sum, map=map, mul=operator.mul) -> float:\n",
    "        \"\"\"ベクトルのEuclidノルムを計算する\"\"\"\n",
    "        return math.sqrt(sum(map(operator.mul, vec, vec)))\n",
    "\n",
    "    def cosine(self, vec1: Vector, vec2: Vector) -> float:\n",
    "        \"\"\"ベクトルのなす角の余弦を計算する\"\"\"\n",
    "        return self.dot_product(vec1, vec2) / (self.norm(vec1) * self.norm(vec2))\n",
    "\n",
    "    def __call__(self, a: str, b: str) -> float:\n",
    "        \"\"\"文字列の類似度を計算する。類似度は0から1の間で1に近いほど類似度が高い。\"\"\"\n",
    "        a_charset, b_charset = set(a), set(b)\n",
    "        common_char_list = list(a_charset.union(b_charset))\n",
    "        a_vector = [1 if c in a_charset else 0 for c in common_char_list]\n",
    "        b_vector = [1 if c in b_charset else 0 for c in common_char_list]\n",
    "        return self.cosine(a_vector, b_vector)"
   ],
   "metadata": {
    "collapsed": false,
    "pycharm": {
     "name": "#%%\n"
    }
   }
  },
  {
   "cell_type": "code",
   "execution_count": 12,
   "outputs": [],
   "source": [
    "import functools\n",
    "\n",
    "\n",
    "class LevenshteinSimilarity:\n",
    "    \"\"\"Levenshtein距離による文字列の類似度を計算する\"\"\"\n",
    "\n",
    "    @functools.lru_cache(maxsize=None)\n",
    "    def levenshtein_distance(self, a: str, b: str) -> int:\n",
    "        \"\"\"文字列間のLevenshtein距離を計算する\"\"\"\n",
    "        if not a:\n",
    "            return len(b)\n",
    "        if not b:\n",
    "            return len(a)\n",
    "        return min(self.levenshtein_distance(a[1:], b[1:]) + (a[0] != b[0]), self.levenshtein_distance(a[1:], b) + 1,\n",
    "                   self.levenshtein_distance(a, b[1:]) + 1)\n",
    "\n",
    "    def __call__(self, a: str, b: str) -> float:\n",
    "        \"\"\"文字列の類似度を計算する。類似度は0から1の間で1に近いほど類似度が高い。\"\"\"\n",
    "        distance = self.levenshtein_distance(a, b)\n",
    "        try:\n",
    "            return 1 / (distance + 1)\n",
    "        except ZeroDivisionError:\n",
    "            return 1"
   ],
   "metadata": {
    "collapsed": false,
    "pycharm": {
     "name": "#%%\n"
    }
   }
  },
  {
   "cell_type": "code",
   "execution_count": 14,
   "outputs": [
    {
     "name": "stdout",
     "output_type": "stream",
     "text": [
      "Cosine Similarity: 0.6708203932499369\n",
      "Levenshtein Similarity: 0.25\n",
      "\n"
     ]
    }
   ],
   "source": [
    "cosine = CosineSimilarity()\n",
    "lev = LevenshteinSimilarity()\n",
    "hoge = \"ABCF\"\n",
    "foo = \"ACDEF\"\n",
    "print(\"Cosine Similarity:\", cosine(hoge, foo))\n",
    "print(\"Levenshtein Similarity:\", lev(hoge, foo))\n",
    "print()"
   ],
   "metadata": {
    "collapsed": false,
    "pycharm": {
     "name": "#%%\n"
    }
   }
  },
  {
   "cell_type": "code",
   "execution_count": 16,
   "outputs": [
    {
     "name": "stdout",
     "output_type": "stream",
     "text": [
      "['A' 'B' 'C' 'F'] & ['A' 'C' 'D' 'E' 'F'] : 1/2\n"
     ]
    }
   ],
   "source": [
    "# coding:utf-8\n",
    "import numpy as np\n",
    "import itertools\n",
    "from fractions import Fraction\n",
    "\n",
    "# Jaccard係数を計算\n",
    "def jaccard(x,y):\n",
    "    # 積集合の要素数\n",
    "    intersection = len(set.intersection(set(x), set(y)))\n",
    "    # 和集合の要素数\n",
    "    union = len(set.union(set(x), set(y)))\n",
    "    # 分数表示で返す\n",
    "    return Fraction(intersection , union)\n",
    "\n",
    "A = np.array(['A', 'B', 'C', 'F'])\n",
    "B = np.array(['A', 'C', 'D', 'E', 'F'])\n",
    "tmp = [A, B]\n",
    "### すべてのリストの組合せ作成\n",
    "tmp2 = list(itertools.combinations(tmp, 2))\n",
    "###すべての組合せにjaccard適用\n",
    "for i in tmp2:\n",
    "    print(i[0],\"&\",i[1],\":\",jaccard(i[0], i[1]))"
   ],
   "metadata": {
    "collapsed": false,
    "pycharm": {
     "name": "#%%\n"
    }
   }
  },
  {
   "cell_type": "code",
   "execution_count": 18,
   "outputs": [
    {
     "name": "stdout",
     "output_type": "stream",
     "text": [
      "3.7416573867739413\n"
     ]
    }
   ],
   "source": [
    "import numpy as np\n",
    "\n",
    "a = np.array([1, 2, 3])\n",
    "print(np.linalg.norm(a))"
   ],
   "metadata": {
    "collapsed": false,
    "pycharm": {
     "name": "#%%\n"
    }
   }
  },
  {
   "cell_type": "code",
   "execution_count": null,
   "outputs": [],
   "source": [],
   "metadata": {
    "collapsed": false,
    "pycharm": {
     "name": "#%%\n"
    }
   }
  }
 ],
 "metadata": {
  "kernelspec": {
   "display_name": "Python 3",
   "language": "python",
   "name": "python3"
  },
  "language_info": {
   "codemirror_mode": {
    "name": "ipython",
    "version": 2
   },
   "file_extension": ".py",
   "mimetype": "text/x-python",
   "name": "python",
   "nbconvert_exporter": "python",
   "pygments_lexer": "ipython2",
   "version": "2.7.6"
  }
 },
 "nbformat": 4,
 "nbformat_minor": 0
}