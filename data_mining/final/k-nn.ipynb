{
 "cells": [
  {
   "cell_type": "code",
   "execution_count": 9,
   "metadata": {
    "collapsed": true,
    "pycharm": {
     "name": "#%%\n"
    }
   },
   "outputs": [],
   "source": [
    "from sklearn.datasets import load_iris\n",
    "import pandas as pd"
   ]
  },
  {
   "cell_type": "code",
   "execution_count": 10,
   "outputs": [
    {
     "name": "stdout",
     "output_type": "stream",
     "text": [
      "    0.455  0.365  0.095   0.514  0.2245   0.101    0.15  15\n",
      "M                                                          \n",
      "M   0.350  0.265  0.090  0.2255  0.0995  0.0485  0.0700   7\n",
      "F   0.530  0.420  0.135  0.6770  0.2565  0.1415  0.2100   9\n",
      "M   0.440  0.365  0.125  0.5160  0.2155  0.1140  0.1550  10\n",
      "I   0.330  0.255  0.080  0.2050  0.0895  0.0395  0.0550   7\n",
      "I   0.425  0.300  0.095  0.3515  0.1410  0.0775  0.1200   8\n",
      "..    ...    ...    ...     ...     ...     ...     ...  ..\n",
      "F   0.565  0.450  0.165  0.8870  0.3700  0.2390  0.2490  11\n",
      "M   0.590  0.440  0.135  0.9660  0.4390  0.2145  0.2605  10\n",
      "M   0.600  0.475  0.205  1.1760  0.5255  0.2875  0.3080   9\n",
      "F   0.625  0.485  0.150  1.0945  0.5310  0.2610  0.2960  10\n",
      "M   0.710  0.555  0.195  1.9485  0.9455  0.3765  0.4950  12\n",
      "\n",
      "[4176 rows x 8 columns]\n"
     ]
    }
   ],
   "source": [
    "# アワビデータセットをdataframeで読み込む\n",
    "df = pd.read_csv('data/abalone.data', index_col=0)\n",
    "print(df)"
   ],
   "metadata": {
    "collapsed": false,
    "pycharm": {
     "name": "#%%\n"
    }
   }
  },
  {
   "cell_type": "code",
   "execution_count": null,
   "outputs": [],
   "source": [],
   "metadata": {
    "collapsed": false,
    "pycharm": {
     "name": "#%%\n"
    }
   }
  }
 ],
 "metadata": {
  "kernelspec": {
   "display_name": "Python 3",
   "language": "python",
   "name": "python3"
  },
  "language_info": {
   "codemirror_mode": {
    "name": "ipython",
    "version": 2
   },
   "file_extension": ".py",
   "mimetype": "text/x-python",
   "name": "python",
   "nbconvert_exporter": "python",
   "pygments_lexer": "ipython2",
   "version": "2.7.6"
  }
 },
 "nbformat": 4,
 "nbformat_minor": 0
}