{
 "cells": [
  {
   "cell_type": "markdown",
   "id": "6a424b44",
   "metadata": {},
   "source": [
    "# Speech Understanding Lecture 2: Introduction to Python"
   ]
  },
  {
   "cell_type": "markdown",
   "id": "b3983e7c",
   "metadata": {},
   "source": [
    "### Mark Hasegawa-Johnson, KCGI, October 15, 2022"
   ]
  },
  {
   "cell_type": "markdown",
   "id": "ffa13a99",
   "metadata": {},
   "source": [
    "In this lecture, you will begin programming in python.\n"
   ]
  },
  {
   "cell_type": "markdown",
   "id": "2cc1f1a1",
   "metadata": {},
   "source": [
    "## Chapter 1: Setting up Python, Anaconda, and Jupyter Notebook"
   ]
  },
  {
   "cell_type": "markdown",
   "id": "b20f8752",
   "metadata": {},
   "source": [
    "For the most part, this course will very closely follow the content in the book *Make Python Talk* by Mark Liu: https://nostarch.com/make-python-talk\n",
    "\n"
   ]
  },
  {
   "cell_type": "markdown",
   "id": "c958c9dc",
   "metadata": {},
   "source": [
    "### 1.1 Installing Anaconda\n",
    "\n",
    "As described in Chapter 1, the very first thing you should do is to install python.  If you have never used python before, you should install it from https://anaconda.com.  That will install many packages that you need including Jupyter (https://docs.jupyter.org/) and numpy (https://numpy.org/).\n",
    "\n",
    "Just go to the anaconda web page (https://www.anaconda.com/), click the **Download** button.  Once you have downloaded the installer, click on it, and follow the instructions to install it."
   ]
  },
  {
   "cell_type": "markdown",
   "id": "c5cfe677",
   "metadata": {},
   "source": [
    "### 1.2 Using the Jupyter Notebook\n",
    "\n",
    "**Unlike** the textbook, we will generally not use spyder for this course.  **Instead**, the first several lectures (at least) will use Jupyter notebooks.\n",
    "\n",
    "A **Jupyter notebook** is an interactive python programming session that runs in your web browser.  There is a python interpreter running in the background, that interprets all of your commands, and prints the results.\n"
   ]
  },
  {
   "cell_type": "markdown",
   "id": "e2962e63",
   "metadata": {},
   "source": [
    "A Jupyter notebook is a file that ends in the extension `.ipynb`.  In some environments, you might be able to just double-click on such a file, but that has never worked for me.  Instead, I recommend the following method:\n",
    "\n",
    "1. Open a command prompt or terminal.  If you've never done that, here are instructions: \n",
    "\n",
    "* How to open a Command Prompt or Powershell in Windows: https://www.howtogeek.com/235101/10-ways-to-open-the-command-prompt-in-windows-10/\n",
    "* How to open a Terminal on a Mac: https://support.apple.com/guide/terminal/open-or-quit-terminal-apd5265185d-f365-44cb-8b09-71a064a42125/mac\n",
    "* How to open a command prompt on Linux: https://ubuntu.com/tutorials/command-line-for-beginners#3-opening-a-terminal\n",
    "\n",
    "2. Once you have your command prompt open, use cd (https://appletoolbox.com/navigate-folders-using-the-mac-terminal/) or chdir (https://www.computerhope.com/chdirhlp.htm) to get to the folder where this file (`lec02_notebook.ipynb`) is stored.\n",
    "\n",
    "3. Once you are in the right folder, type\n",
    "\n",
    "`jupyter notebook`\n",
    "\n",
    "That should automatically cause the Jupyter browswer to start running in a window on your default web browser.\n",
    "\n",
    "4. In the Jupyter browser, you'll see this file.  Double-click to open it.\n",
    "\n",
    "For more help on this, please see: https://docs.jupyter.org/en/latest/running.html"
   ]
  },
  {
   "cell_type": "markdown",
   "id": "d00ff11c",
   "metadata": {},
   "source": [
    "A Jupyter notebook has two main types of windows:\n",
    "\n",
    "1. **Markdown** windows are like this one.  They contain text, which is formatted using a very simple formatting language called markdown.  Find more information about markdown here: https://medium.com/analytics-vidhya/the-ultimate-markdown-guide-for-jupyter-notebook-d5e5abf728fd.  \n",
    "\n",
    "If you double-click on a markdown window, the text will convert from **formatted** to **unformatted**, and then you can edit it.   Hit `shift-return` (hit the return key while holding the shift key) in order to return to **formatted** text.\n",
    "\n",
    "\n",
    "2. **Code** windows contain python code.\n",
    "\n",
    "The window immediately after this one is a `code` window.  Notice how its background is gray, instead of white.\n",
    "\n",
    "Copy the text `print(\"Hello world\")` into the next window, then hit `shift-return`.  You should see the text `Hello world` printed, in response, just below the window."
   ]
  },
  {
   "cell_type": "code",
   "execution_count": 41,
   "id": "abb4823b",
   "metadata": {},
   "outputs": [
    {
     "name": "stdout",
     "output_type": "stream",
     "text": [
      "Hello world\n"
     ]
    }
   ],
   "source": [
    "print(\"Hello world\")"
   ]
  },
  {
   "cell_type": "markdown",
   "id": "8193111d",
   "metadata": {},
   "source": [
    "#### 1.2.1 Write Python in Jupyter"
   ]
  },
  {
   "cell_type": "markdown",
   "id": "9e8515b1",
   "metadata": {},
   "source": [
    "As shown above, you can type python directly into Jupyter **Code** windows, to see the result.  You can also create separate python program files, which can be run outside of Jupyter.\n",
    "\n",
    "1. Go back to the Jupyter browser window (the one that shows the filenames in this directory).  \n",
    "\n",
    "2. In the upper right corner, from the `New` menu, choose `Text File`.  That should open a new text file called `untitled.txt`.\n",
    "\n",
    "3. In the new text file window, click on the filename.  Change it to `my_first_script.py`.\n",
    "\n",
    "4. Now you should see a blank white page, showing the text in that file.  Enter the text `print(\"Hello world\")`, then from the `File` menu, choose `Save`.\n"
   ]
  },
  {
   "cell_type": "markdown",
   "id": "92077d02",
   "metadata": {},
   "source": [
    "The first time you import external code into Jupyter, you should use the `import` command, as shown here:"
   ]
  },
  {
   "cell_type": "code",
   "execution_count": 42,
   "id": "a138582e",
   "metadata": {},
   "outputs": [],
   "source": [
    "import my_first_script"
   ]
  },
  {
   "cell_type": "markdown",
   "id": "5f1cef4a",
   "metadata": {},
   "source": [
    "After you have imported it once, however, importing it a second time does not cause it to run.  In order to make it run again, you need to use the `importlib`, as shown here:"
   ]
  },
  {
   "cell_type": "code",
   "execution_count": 43,
   "id": "a87aa10d",
   "metadata": {},
   "outputs": [
    {
     "name": "stdout",
     "output_type": "stream",
     "text": [
      "hello from another file\n"
     ]
    },
    {
     "data": {
      "text/plain": [
       "<module 'my_first_script' from '/Users/yuuiri/PycharmProjects/college/speech_understanding/2/my_first_script.py'>"
      ]
     },
     "execution_count": 43,
     "metadata": {},
     "output_type": "execute_result"
    }
   ],
   "source": [
    "import importlib\n",
    "importlib.reload(my_first_script)"
   ]
  },
  {
   "cell_type": "markdown",
   "id": "7ecdf67d",
   "metadata": {},
   "source": [
    "Now that you have created `my_first_script.py` as a separate program, you can also run it from outside Jupyter.  Try it!  Start a new Terminal or Command Prompt window, `cd` or `chdir` to the directory containing `my_first_script.py`, and type\n",
    "\n",
    "`python my_first_script.py`\n",
    "\n",
    "You should see the response: `Hello world`."
   ]
  },
  {
   "cell_type": "markdown",
   "id": "c27bd6c9",
   "metadata": {},
   "source": [
    "### 1.3 Understanding Coding in Python"
   ]
  },
  {
   "cell_type": "markdown",
   "id": "57d65644",
   "metadata": {},
   "source": [
    "#### 1.3.1 Comments\n",
    "\n",
    "In python, any line starting with # is a comment, and is ignored by python."
   ]
  },
  {
   "cell_type": "code",
   "execution_count": 16,
   "id": "dad51402",
   "metadata": {},
   "outputs": [],
   "source": [
    "# This line is a comment.  Python ignores it"
   ]
  },
  {
   "cell_type": "markdown",
   "id": "74e37f67",
   "metadata": {},
   "source": [
    "#### 1.3.2 Docstrings and Help\n",
    "\n",
    "In python, the sequence of three quotation marks (\"\"\") starts or ends a multi-line string.\n",
    "\n",
    "A multi-line string at the beginning of a file is called a **docstring**.  If you use `help` to seek help about a particular file, python will return the docstring.\n",
    "\n",
    "For example, add the following three lines to the beginning of `my_first_script.py`, and then save it:\n",
    "\n",
    "`\"\"\"\n",
    "This is a script that I am creating as part of lecture 2 in the Speech Understanding course.\n",
    "\"\"\"`\n",
    "\n",
    "Now reload `my_first_script.py`:"
   ]
  },
  {
   "cell_type": "code",
   "execution_count": 44,
   "id": "86351c48",
   "metadata": {},
   "outputs": [
    {
     "name": "stdout",
     "output_type": "stream",
     "text": [
      "hello from another file\n"
     ]
    },
    {
     "data": {
      "text/plain": [
       "<module 'my_first_script' from '/Users/yuuiri/PycharmProjects/college/speech_understanding/2/my_first_script.py'>"
      ]
     },
     "execution_count": 44,
     "metadata": {},
     "output_type": "execute_result"
    }
   ],
   "source": [
    "importlib.reload(my_first_script)"
   ]
  },
  {
   "cell_type": "markdown",
   "id": "cf713baf",
   "metadata": {},
   "source": [
    "... and ask for help about it:"
   ]
  },
  {
   "cell_type": "code",
   "execution_count": 55,
   "id": "9da4ec5b",
   "metadata": {},
   "outputs": [
    {
     "name": "stdout",
     "output_type": "stream",
     "text": [
      "Help on module my_first_script:\n",
      "\n",
      "NAME\n",
      "    my_first_script\n",
      "\n",
      "DESCRIPTION\n",
      "    docstring included new line.(documentation string)\n",
      "    here is new line.\n",
      "\n",
      "FILE\n",
      "    /Users/yuuiri/PycharmProjects/college/speech_understanding/2/my_first_script.py\n",
      "\n",
      "\n"
     ]
    }
   ],
   "source": [
    "help(my_first_script)"
   ]
  },
  {
   "cell_type": "markdown",
   "id": "c7b354ba",
   "metadata": {},
   "source": [
    "By the way, you can use the help command to ask for help about any other command.  For example:"
   ]
  },
  {
   "cell_type": "code",
   "execution_count": 56,
   "id": "b4e9170e",
   "metadata": {},
   "outputs": [
    {
     "name": "stdout",
     "output_type": "stream",
     "text": [
      "Help on built-in function print in module builtins:\n",
      "\n",
      "print(...)\n",
      "    print(value, ..., sep=' ', end='\\n', file=sys.stdout, flush=False)\n",
      "    \n",
      "    Prints the values to a stream, or to sys.stdout by default.\n",
      "    Optional keyword arguments:\n",
      "    file:  a file-like object (stream); defaults to the current sys.stdout.\n",
      "    sep:   string inserted between values, default a space.\n",
      "    end:   string appended after the last value, default a newline.\n",
      "    flush: whether to forcibly flush the stream.\n",
      "\n"
     ]
    }
   ],
   "source": [
    "help(print)"
   ]
  },
  {
   "cell_type": "markdown",
   "id": "99eae063",
   "metadata": {},
   "source": [
    "#### 1.3.3 Arithmetic in Python\n",
    "\n",
    "Python makes a great desktop calculator.  For example:"
   ]
  },
  {
   "cell_type": "code",
   "execution_count": 48,
   "id": "3f1c6b54",
   "metadata": {},
   "outputs": [
    {
     "data": {
      "text/plain": [
       "35"
      ]
     },
     "execution_count": 48,
     "metadata": {},
     "output_type": "execute_result"
    }
   ],
   "source": [
    "7*5\n"
   ]
  },
  {
   "cell_type": "markdown",
   "id": "4f4342ba",
   "metadata": {},
   "source": [
    "If you want, you can use `my_first_script.py` to do arithmetic.  Add the lines\n",
    "\n",
    "`print(5+6)\n",
    "print(9-4)\n",
    "print(9/3)\n",
    "print(5**3)\n",
    "print(13%5)\n",
    "print(13//5)\n",
    "`\n",
    "\n",
    "Then `Save` the file, and reload it as shown below:"
   ]
  },
  {
   "cell_type": "code",
   "execution_count": 49,
   "id": "0752a483",
   "metadata": {},
   "outputs": [
    {
     "name": "stdout",
     "output_type": "stream",
     "text": [
      "hello from another file\n",
      "30\n",
      "6.0\n",
      "11\n",
      "5\n",
      "3.0\n",
      "125\n",
      "3\n",
      "2\n"
     ]
    },
    {
     "data": {
      "text/plain": [
       "<module 'my_first_script' from '/Users/yuuiri/PycharmProjects/college/speech_understanding/2/my_first_script.py'>"
      ]
     },
     "execution_count": 49,
     "metadata": {},
     "output_type": "execute_result"
    }
   ],
   "source": [
    "importlib.reload(my_first_script)"
   ]
  },
  {
   "cell_type": "markdown",
   "id": "9cab4906",
   "metadata": {},
   "source": [
    "## Chapter 2: Python Refresher"
   ]
  },
  {
   "cell_type": "markdown",
   "id": "5dffd1a4",
   "metadata": {},
   "source": [
    "This chapter (the remainder of this lecture, and all of the next) will cover basic concepts of programming in python.  There is a lot of material to cover!!  If you have never learned python before, you may want to study external sources like https://docs.python.org/3/tutorial/."
   ]
  },
  {
   "cell_type": "markdown",
   "id": "f783053c",
   "metadata": {},
   "source": [
    "### 2.1 Variables and Values"
   ]
  },
  {
   "cell_type": "markdown",
   "id": "bec082a4",
   "metadata": {},
   "source": [
    "#### 2.1.1 Strings\n",
    "\n",
    "A string is a sequence of characters inside quotes.  For example:\n"
   ]
  },
  {
   "cell_type": "code",
   "execution_count": 50,
   "id": "7a6ca42a",
   "metadata": {},
   "outputs": [],
   "source": [
    "name1 = \"KCGI\"\n",
    "name2 = \"Kyoto\""
   ]
  },
  {
   "cell_type": "markdown",
   "id": "433542ff",
   "metadata": {},
   "source": [
    "You can print the content of a string:"
   ]
  },
  {
   "cell_type": "code",
   "execution_count": 51,
   "id": "1c4f8ce0",
   "metadata": {},
   "outputs": [
    {
     "name": "stdout",
     "output_type": "stream",
     "text": [
      "KCGI\n"
     ]
    }
   ],
   "source": [
    "print(name1)"
   ]
  },
  {
   "cell_type": "markdown",
   "id": "ae192abd",
   "metadata": {},
   "source": [
    "Or you can print its type:"
   ]
  },
  {
   "cell_type": "code",
   "execution_count": 52,
   "id": "33e2ee9b",
   "metadata": {},
   "outputs": [
    {
     "name": "stdout",
     "output_type": "stream",
     "text": [
      "<class 'str'>\n"
     ]
    }
   ],
   "source": [
    "print(type(name1))"
   ]
  },
  {
   "cell_type": "markdown",
   "id": "eb83a13e",
   "metadata": {},
   "source": [
    "The `+` sign concatenates strings.  The `*` sign repeats a string:"
   ]
  },
  {
   "cell_type": "code",
   "execution_count": 53,
   "id": "e528696c",
   "metadata": {},
   "outputs": [
    {
     "name": "stdout",
     "output_type": "stream",
     "text": [
      "KCGI is in KyotoKyotoKyoto\n"
     ]
    }
   ],
   "source": [
    "print(name1 + \" is in \" + name2*3 )"
   ]
  },
  {
   "cell_type": "markdown",
   "id": "9e12a85d",
   "metadata": {},
   "source": [
    "#### 2.1.2 Floats\n",
    "\n",
    "Most numbers are called `floats`, or `floating point numbers`.  They are used to do calculations:"
   ]
  },
  {
   "cell_type": "code",
   "execution_count": 54,
   "id": "3f1f9207",
   "metadata": {},
   "outputs": [
    {
     "name": "stdout",
     "output_type": "stream",
     "text": [
      "-17.89  is less than  1.6666666666666667\n"
     ]
    }
   ],
   "source": [
    "x = -17.89\n",
    "\n",
    "y = 5/3\n",
    "\n",
    "print(x, \" is less than \", y)"
   ]
  },
  {
   "cell_type": "code",
   "execution_count": 27,
   "id": "6ab8c970",
   "metadata": {},
   "outputs": [
    {
     "name": "stdout",
     "output_type": "stream",
     "text": [
      "<class 'float'>\n"
     ]
    }
   ],
   "source": [
    "print(type(y))"
   ]
  },
  {
   "cell_type": "code",
   "execution_count": 28,
   "id": "3cc8aae0",
   "metadata": {},
   "outputs": [
    {
     "name": "stdout",
     "output_type": "stream",
     "text": [
      "2\n"
     ]
    }
   ],
   "source": [
    "print(round(y))"
   ]
  },
  {
   "cell_type": "markdown",
   "id": "c9553afd",
   "metadata": {},
   "source": [
    "You can convert a float into a string, if you want to use the string versions of `+` and `*` instead of the numerical meanings:"
   ]
  },
  {
   "cell_type": "code",
   "execution_count": 29,
   "id": "1979c634",
   "metadata": {},
   "outputs": [
    {
     "name": "stdout",
     "output_type": "stream",
     "text": [
      "17.89*5 is  89.45  but str(17.89)*5 is  17.8917.8917.8917.8917.89\n"
     ]
    }
   ],
   "source": [
    "print(\"17.89*5 is \", 17.89*5, \" but str(17.89)*5 is \", str(17.89)*5)"
   ]
  },
  {
   "cell_type": "markdown",
   "id": "1c5d4fcf",
   "metadata": {},
   "source": [
    "#### 2.1.3 Integers\n",
    "\n",
    "Integers are used for indexing.  They are numerical objects, but unlike floats, they don't have any fractional part."
   ]
  },
  {
   "cell_type": "code",
   "execution_count": 30,
   "id": "287bdddc",
   "metadata": {},
   "outputs": [
    {
     "name": "stdout",
     "output_type": "stream",
     "text": [
      "<class 'int'>\n"
     ]
    }
   ],
   "source": [
    "a = 7\n",
    "b = -23\n",
    "c = 0\n",
    "print(type(b))"
   ]
  },
  {
   "cell_type": "markdown",
   "id": "710ed6a1",
   "metadata": {},
   "source": [
    "If you divide two integers, you usually get a float."
   ]
  },
  {
   "cell_type": "code",
   "execution_count": 31,
   "id": "ebe265b3",
   "metadata": {},
   "outputs": [
    {
     "name": "stdout",
     "output_type": "stream",
     "text": [
      "-3.2857142857142856  is of type <class 'float'>\n"
     ]
    }
   ],
   "source": [
    "print(b/a, \" is of type\", type(b/a))"
   ]
  },
  {
   "cell_type": "markdown",
   "id": "fca1e634",
   "metadata": {},
   "source": [
    "If you want just the integer part of the division, use `//` instead."
   ]
  },
  {
   "cell_type": "code",
   "execution_count": 32,
   "id": "ff0a472b",
   "metadata": {},
   "outputs": [
    {
     "name": "stdout",
     "output_type": "stream",
     "text": [
      "-4  is of type  <class 'int'>\n"
     ]
    }
   ],
   "source": [
    "print(b//a, \" is of type \", type(b//a))"
   ]
  },
  {
   "cell_type": "markdown",
   "id": "140470cf",
   "metadata": {},
   "source": [
    "If you convert a float to int, it will truncate the fractional part:"
   ]
  },
  {
   "cell_type": "code",
   "execution_count": 33,
   "id": "bf297b9b",
   "metadata": {},
   "outputs": [
    {
     "name": "stdout",
     "output_type": "stream",
     "text": [
      "-17.89 -17 1.6666666666666667 1\n"
     ]
    }
   ],
   "source": [
    "x = - 17.89\n",
    "y = 5/3\n",
    "xx = int(x)\n",
    "yy = int(y)\n",
    "print(x, xx, y, yy)"
   ]
  },
  {
   "cell_type": "markdown",
   "id": "c4312b17",
   "metadata": {},
   "source": [
    "#### 2.1.4 bools\n",
    "\n",
    "A boolean variable (`bool`) can only take one of two possible values: `True` or `False`.  When you test an equality or inequality, the result is a bool."
   ]
  },
  {
   "cell_type": "code",
   "execution_count": 34,
   "id": "1c0372bc",
   "metadata": {},
   "outputs": [
    {
     "name": "stdout",
     "output_type": "stream",
     "text": [
      "4>5 is  False  but 10 >= 6 is  True\n"
     ]
    }
   ],
   "source": [
    "firstbool = (4 > 5)\n",
    "secondbool = (10 >= 6)\n",
    "print(\"4>5 is \", firstbool, \" but 10 >= 6 is \", secondbool)"
   ]
  },
  {
   "cell_type": "code",
   "execution_count": 35,
   "id": "bede41c1",
   "metadata": {},
   "outputs": [
    {
     "name": "stdout",
     "output_type": "stream",
     "text": [
      "<class 'bool'>\n"
     ]
    }
   ],
   "source": [
    "print(type(firstbool))"
   ]
  },
  {
   "cell_type": "markdown",
   "id": "a3b1271e",
   "metadata": {},
   "source": [
    "Boolean variables can be converted to other types, if you want:\n"
   ]
  },
  {
   "cell_type": "code",
   "execution_count": 36,
   "id": "d031942d",
   "metadata": {},
   "outputs": [
    {
     "name": "stdout",
     "output_type": "stream",
     "text": [
      "1 True 1.0 True 0 0.0 False\n"
     ]
    }
   ],
   "source": [
    "print(int(True), bool(1), float(True), bool(1.0), int(False), float(False), bool(0.0))"
   ]
  },
  {
   "cell_type": "markdown",
   "id": "eee84632",
   "metadata": {},
   "source": [
    "`str(True)` results in the string \"True\"; `str(False)` results in the string \"False\":"
   ]
  },
  {
   "cell_type": "code",
   "execution_count": 37,
   "id": "9f2a70f9",
   "metadata": {},
   "outputs": [
    {
     "name": "stdout",
     "output_type": "stream",
     "text": [
      "TrueTrueTrueTrueTrueTrueTrueTrueTrueTrueTrueTrueTrueTrueTrue\n"
     ]
    }
   ],
   "source": [
    "z = str(True)\n",
    "print(z*15)"
   ]
  },
  {
   "cell_type": "markdown",
   "id": "95b99fa8",
   "metadata": {},
   "source": [
    "#### 2.1.5 Rules for Variable Names\n",
    "\n",
    "A variable name cannot start with a number.  The name `bit8` is allowed, but the name `8bit` is not allowed.\n",
    "\n",
    "The only special character you can use as part of a variable name is the underscore, `_`.\n",
    "\n",
    "The following keywords cannot be used as variable names."
   ]
  },
  {
   "cell_type": "code",
   "execution_count": 38,
   "id": "d765f00a",
   "metadata": {},
   "outputs": [
    {
     "name": "stdout",
     "output_type": "stream",
     "text": [
      "['False', 'None', 'True', '__peg_parser__', 'and', 'as', 'assert', 'async', 'await', 'break', 'class', 'continue', 'def', 'del', 'elif', 'else', 'except', 'finally', 'for', 'from', 'global', 'if', 'import', 'in', 'is', 'lambda', 'nonlocal', 'not', 'or', 'pass', 'raise', 'return', 'try', 'while', 'with', 'yield']\n"
     ]
    }
   ],
   "source": [
    "from keyword import kwlist\n",
    "print(kwlist)"
   ]
  },
  {
   "cell_type": "markdown",
   "id": "4e6b32d4",
   "metadata": {},
   "source": [
    "## Homework for Week 2"
   ]
  },
  {
   "cell_type": "markdown",
   "id": "7a9eeaa5",
   "metadata": {},
   "source": [
    "Homework will be autograded on Gradescope.\n",
    "\n",
    "In order to use the autograder, you should create a script called `homework2.py`.  Your script should define the variables described in the rest of this section.  When you are done, you should go to Gradescope, for this course.  Click `Homework Assignment 2`, click `submit`, and submit your file `homework2.py`.\n",
    "\n",
    "**Warning:** if your variable names are not spelled *exactly* as shown below, then your answer will be counted as incorrect.\n",
    "\n",
    "When you submit your `homework2.py` to Gradescope, it will be graded immediately, and you will see your score immediately.  If you get a perfect score, then you're done!  If your score is not perfect, then you can fix your code, and submit it again.  You can submit your code as many times as you want; only your last submission will be counted.\n",
    "\n",
    "Here are the variables that should be defined by your file `homework2.py`:"
   ]
  },
  {
   "cell_type": "markdown",
   "id": "0da0f3b8",
   "metadata": {},
   "source": [
    "* Variable `a` should contain the str `This is a python string`\n",
    "* Variable `b` should contain the int that results after you execute `7 % 3`\n",
    "* Variable `c` should contain the int that results after you execute `55 * 234`\n",
    "* Variable `d` should contain the str that results after you execute `name1 + ' @ ' + name2`, where\n",
    "`name1 = \"KCGI\"\n",
    "name2 = \"Kyoto\"`\n",
    "* Variable `e` should contain the float that results after you execute `round(3.458, 2)`\n",
    "* Variable `f` should contain the str that results from `str(57)`\n",
    "* Variable `g` should contain the bool that results from `5==9`\n",
    "* Variable `h` should contain the str that results from `str(-23.0)`\n",
    "* Variable `i` should contain the float that results from `float(False)`\n",
    "* Variable `j` should contain the bool that results from `bool(\"Python\")`\n",
    "* Look at the following 5 strings: `global`, `2pirnt`, `print2`, `_squ`, and `list`.   Variable `k` should be a str containing the concatenation of **only** the ones that are valid variable names.  For example, if you think that only `global` and `_squ` can be used as variable names, then you should set `k=\"global\"+\"_squ\"`."
   ]
  },
  {
   "cell_type": "code",
   "execution_count": 39,
   "id": "03d8e3bf",
   "metadata": {},
   "outputs": [
    {
     "data": {
      "text/plain": [
       "9.090909090909092"
      ]
     },
     "execution_count": 39,
     "metadata": {},
     "output_type": "execute_result"
    }
   ],
   "source": [
    "100/11\n"
   ]
  },
  {
   "cell_type": "code",
   "execution_count": 40,
   "id": "f4130bd8",
   "metadata": {},
   "outputs": [
    {
     "data": {
      "text/plain": [
       "\"<class 'int'>\""
      ]
     },
     "execution_count": 40,
     "metadata": {},
     "output_type": "execute_result"
    }
   ],
   "source": [
    "str(type(5))"
   ]
  },
  {
   "cell_type": "code",
   "execution_count": 57,
   "id": "35518c45",
   "metadata": {},
   "outputs": [],
   "source": [
    "import my_first_script"
   ]
  },
  {
   "cell_type": "code",
   "execution_count": null,
   "id": "8e69a2f5",
   "metadata": {},
   "outputs": [],
   "source": []
  }
 ],
 "metadata": {
  "kernelspec": {
   "display_name": "Python 3 (ipykernel)",
   "language": "python",
   "name": "python3"
  },
  "language_info": {
   "codemirror_mode": {
    "name": "ipython",
    "version": 3
   },
   "file_extension": ".py",
   "mimetype": "text/x-python",
   "name": "python",
   "nbconvert_exporter": "python",
   "pygments_lexer": "ipython3",
   "version": "3.9.12"
  }
 },
 "nbformat": 4,
 "nbformat_minor": 5
}
