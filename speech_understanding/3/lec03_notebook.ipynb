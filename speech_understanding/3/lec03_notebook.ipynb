{
 "cells": [
  {
   "cell_type": "markdown",
   "id": "6a424b44",
   "metadata": {},
   "source": [
    "# Speech Understanding \n",
    "# Lecture 3: Python Syntax and Containers\n",
    "Based on Chapter 2: **Python Refresher** from https://nostarch.com/make-python-talk"
   ]
  },
  {
   "cell_type": "markdown",
   "id": "b3983e7c",
   "metadata": {},
   "source": [
    "### Mark Hasegawa-Johnson, KCGI, October 22, 2022"
   ]
  },
  {
   "cell_type": "markdown",
   "id": "ffa13a99",
   "metadata": {},
   "source": [
    "In this lecture, you will learn the basic command structures of python: conditional execution and loops.\n",
    "\n",
    "Then, you will learn about python's four main container types: strings, lists, dicts, and tuples.\n",
    "\n",
    "Finally, we'll talk about how to define and use functions and modules."
   ]
  },
  {
   "cell_type": "markdown",
   "id": "2cc1f1a1",
   "metadata": {},
   "source": [
    "## Section 2.2: Loops and Conditional Execution"
   ]
  },
  {
   "cell_type": "markdown",
   "id": "c958c9dc",
   "metadata": {},
   "source": [
    "### 2.2.1 Conditional Execution\n",
    "\n",
    "Like most modern languages, python uses the commands `if`, `elif`, and `else` to do branching and conditional execution.\n",
    "\n",
    "There is no `case` statement in python.  You can do the same thing with a series of `if` and `elif` statements:\n"
   ]
  },
  {
   "cell_type": "code",
   "execution_count": 5,
   "id": "005827bc",
   "metadata": {},
   "outputs": [
    {
     "name": "stdout",
     "output_type": "stream",
     "text": [
      "x > 10\n"
     ]
    }
   ],
   "source": [
    "x = 20\n",
    "\n",
    "if x > 10:\n",
    "    print(\"x > 10\")\n",
    "elif x > 4:\n",
    "    print(\"x > 4\")\n",
    "elif x > 0:\n",
    "    print(\"x > 0\")\n",
    "elif x > -6:\n",
    "    print(\"x > -6\")\n",
    "else:\n",
    "    print(\"x <= -6\")"
   ]
  },
  {
   "cell_type": "markdown",
   "id": "054c56b8",
   "metadata": {},
   "source": [
    "Unlike most other languages, in python **whitespace matters**.\n",
    "* The `if` statement ends in a colon, then a newline.\n",
    "* The following statement needs to be indented by exactly four space.\n",
    "* Every succeeding statement that is indented is considered to be part of the same block.\n",
    "* When you return to top-level indentation, that means that the block is over.\n",
    "\n",
    "Consider the difference between the following two code blocks:"
   ]
  },
  {
   "cell_type": "code",
   "execution_count": 6,
   "id": "74e5fc20",
   "metadata": {},
   "outputs": [
    {
     "name": "stdout",
     "output_type": "stream",
     "text": [
      "This line is definitely not part of the if statement\n"
     ]
    }
   ],
   "source": [
    "if 4 > 5:\n",
    "    print(\"4>5!\")\n",
    "    print(\"Is this line part of the if statement?\")\n",
    "print(\"This line is definitely not part of the if statement\")"
   ]
  },
  {
   "cell_type": "code",
   "execution_count": 7,
   "id": "d8a6ce9d",
   "metadata": {},
   "outputs": [
    {
     "name": "stdout",
     "output_type": "stream",
     "text": [
      "Is this line part of the if statement?\n",
      "This line is definitely not part of the if statement\n"
     ]
    }
   ],
   "source": [
    "if 4 > 5:\n",
    "    print(\"4>5!\")\n",
    "print(\"Is this line part of the if statement?\")\n",
    "print(\"This line is definitely not part of the if statement\")"
   ]
  },
  {
   "cell_type": "markdown",
   "id": "c5cfe677",
   "metadata": {},
   "source": [
    "### 2.2.2 Loops\n",
    "\n",
    "Loops are used to do the same thing over and over again."
   ]
  },
  {
   "cell_type": "markdown",
   "id": "1ee8647d",
   "metadata": {},
   "source": [
    "#### 2.2.2.1 While Loops"
   ]
  },
  {
   "cell_type": "markdown",
   "id": "b166ce27",
   "metadata": {},
   "source": [
    "A `while` loop executes its content as long as the condition is satisfied:"
   ]
  },
  {
   "cell_type": "code",
   "execution_count": 8,
   "id": "832e9140",
   "metadata": {},
   "outputs": [
    {
     "name": "stdout",
     "output_type": "stream",
     "text": [
      "14\n",
      "12\n",
      "10\n",
      "8\n",
      "The loop ended, and now x ==  6\n"
     ]
    }
   ],
   "source": [
    "x = 14\n",
    "while x > 6:\n",
    "    print(x)\n",
    "    x = x-2\n",
    "print(\"The loop ended, and now x == \",x)"
   ]
  },
  {
   "cell_type": "markdown",
   "id": "e2962e63",
   "metadata": {},
   "source": [
    "#### 2.2.2.2  For Loops"
   ]
  },
  {
   "cell_type": "markdown",
   "id": "d00ff11c",
   "metadata": {},
   "source": [
    "A `for` loop does something a fixed number of times.  Its syntax is like this:"
   ]
  },
  {
   "cell_type": "code",
   "execution_count": 9,
   "id": "abb4823b",
   "metadata": {},
   "outputs": [
    {
     "name": "stdout",
     "output_type": "stream",
     "text": [
      "0\n",
      "1\n",
      "2\n"
     ]
    }
   ],
   "source": [
    "for n in range(3):\n",
    "    print(n)"
   ]
  },
  {
   "cell_type": "markdown",
   "id": "8193111d",
   "metadata": {},
   "source": [
    "Here are some things worth knowing:\n",
    "\n",
    "* `range` is actually a python function (you can type `help(range)` to learn more about it).  It returns a type of object called an `iterator`.\n",
    "* Notice that `range(x)` returns the sequence of integers starting at `0`, and ending at `x-1`.\n",
    "* `range(x,y)` returns the numbers from `x` to `y-1`\n",
    "* `range(x,y,s)` returns the numbers from `x` to `y-s` in steps of `s`"
   ]
  },
  {
   "cell_type": "code",
   "execution_count": 10,
   "id": "2ffd3e38",
   "metadata": {},
   "outputs": [
    {
     "name": "stdout",
     "output_type": "stream",
     "text": [
      "2\n",
      "3\n",
      "4\n"
     ]
    }
   ],
   "source": [
    "for n in range(2,5):\n",
    "    print(n)"
   ]
  },
  {
   "cell_type": "code",
   "execution_count": 11,
   "id": "a138582e",
   "metadata": {},
   "outputs": [
    {
     "name": "stdout",
     "output_type": "stream",
     "text": [
      "14\n",
      "16\n",
      "18\n",
      "20\n"
     ]
    }
   ],
   "source": [
    "for n in range(14,22,2):\n",
    "    print(n)"
   ]
  },
  {
   "cell_type": "markdown",
   "id": "93220633",
   "metadata": {},
   "source": [
    "Here's something else worth knowing:  The `range` function can be replaced by any other object that specifies a sequence.  For example, if you use a string, the `for` command will iterate through the letters of the string:"
   ]
  },
  {
   "cell_type": "code",
   "execution_count": 12,
   "id": "e01716c7",
   "metadata": {},
   "outputs": [
    {
     "name": "stdout",
     "output_type": "stream",
     "text": [
      "The next letter is  a\n",
      "The next letter is  b\n",
      "The next letter is  c\n",
      "The next letter is  d\n",
      "The next letter is  e\n",
      "The next letter is  f\n",
      "The next letter is  g\n"
     ]
    }
   ],
   "source": [
    "for c in \"abcdefg\":\n",
    "    print(\"The next letter is \",c)"
   ]
  },
  {
   "cell_type": "markdown",
   "id": "5f1cef4a",
   "metadata": {},
   "source": [
    "#### 2.2.2.3 Loops in Loops"
   ]
  },
  {
   "cell_type": "markdown",
   "id": "564707ab",
   "metadata": {},
   "source": [
    "You can put a loop inside another loop:"
   ]
  },
  {
   "cell_type": "code",
   "execution_count": 13,
   "id": "58da0a12",
   "metadata": {},
   "outputs": [
    {
     "name": "stdout",
     "output_type": "stream",
     "text": [
      "A0\n",
      "A1\n",
      "A2\n",
      "B0\n",
      "B1\n",
      "B2\n",
      "C0\n",
      "C1\n",
      "C2\n"
     ]
    }
   ],
   "source": [
    "for c in 'ABC':\n",
    "    for n in range(3):\n",
    "        print(c + str(n))"
   ]
  },
  {
   "cell_type": "markdown",
   "id": "7ecdf67d",
   "metadata": {},
   "source": [
    "#### 2.2.2.4  continue, break, pass"
   ]
  },
  {
   "cell_type": "markdown",
   "id": "c27bd6c9",
   "metadata": {},
   "source": [
    "The `continue` and `break` commands can change the order of a loop:\n",
    "\n",
    "* `continue` stops the current iteration of the loop, and goes to the next iteration\n",
    "* `break` stops the loop\n",
    "* `pass` does nothing!  It's just a placeholder."
   ]
  },
  {
   "cell_type": "code",
   "execution_count": 14,
   "id": "dad51402",
   "metadata": {},
   "outputs": [
    {
     "name": "stdout",
     "output_type": "stream",
     "text": [
      "0\n",
      "1\n",
      "2\n",
      "4\n",
      "5\n",
      "8\n",
      "9\n"
     ]
    }
   ],
   "source": [
    "for n in range(10):\n",
    "    if n==3 or n==6 or n==7:\n",
    "        continue   # When python sees this command, it skips to the next value of n\n",
    "    print(n)"
   ]
  },
  {
   "cell_type": "code",
   "execution_count": 15,
   "id": "49fd1ae4",
   "metadata": {},
   "outputs": [
    {
     "name": "stdout",
     "output_type": "stream",
     "text": [
      "0\n",
      "1\n",
      "2\n"
     ]
    }
   ],
   "source": [
    "for n in range(10):\n",
    "    if n==3 or n==6 or n==7:\n",
    "        break   # When python sees this command, it ends the loop\n",
    "    print(n)"
   ]
  },
  {
   "cell_type": "code",
   "execution_count": 16,
   "id": "338938a5",
   "metadata": {},
   "outputs": [
    {
     "name": "stdout",
     "output_type": "stream",
     "text": [
      "0\n",
      "1\n",
      "2\n",
      "3\n",
      "4\n",
      "5\n",
      "6\n",
      "7\n",
      "8\n",
      "9\n"
     ]
    }
   ],
   "source": [
    "for n in range(10):\n",
    "    if n==3 or n==6 or n==7:\n",
    "        pass   # When python sees this command, it does nothing at all!!\n",
    "    print(n)"
   ]
  },
  {
   "cell_type": "markdown",
   "id": "74e37f67",
   "metadata": {},
   "source": [
    "## 2.3 Strings\n",
    "\n",
    "### 2.3.1 String Indexing\n",
    "\n",
    "Last time, we saw strings as a type of variable.  But they are also a type of **container**.  Each string contains substrings, which you can access by indexing."
   ]
  },
  {
   "cell_type": "code",
   "execution_count": 17,
   "id": "86351c48",
   "metadata": {},
   "outputs": [
    {
     "name": "stdout",
     "output_type": "stream",
     "text": [
      "T i s a\n"
     ]
    }
   ],
   "source": [
    "x = \"This is a fancy string\"\n",
    "print(x[0], x[2], x[3], x[8])"
   ]
  },
  {
   "cell_type": "markdown",
   "id": "cf713baf",
   "metadata": {},
   "source": [
    "You can access longer substrings by *slicing*.  A *slice* has almost the same syntax as the `range` function:\n",
    "\n",
    "* `start:stop` returns all numbers from `start` to `stop-1`\n",
    "* `start:stop:step` returns all numbers from `start` to `stop-step`, in increments of `step`\n",
    "* If `start` is omitted, it's assumed to be `0`\n",
    "* If `stop` is omitted, it's assumed to be the end of the string\n",
    "* If `step` is omitted, it's assumed to be `1`"
   ]
  },
  {
   "cell_type": "code",
   "execution_count": 18,
   "id": "9da4ec5b",
   "metadata": {},
   "outputs": [
    {
     "name": "stdout",
     "output_type": "stream",
     "text": [
      "x[2:8] is  234567\n",
      "x[2:8:2] is  246\n",
      "x[:8] is  01234567\n",
      "x[:] is  0123456789abcdef\n",
      "x[9:] is  9abcdef\n",
      "x[::-1] is  fedcba9876543210\n"
     ]
    }
   ],
   "source": [
    "x = \"0123456789abcdef\"\n",
    "\n",
    "print(\"x[2:8] is \", x[2:8])\n",
    "print(\"x[2:8:2] is \", x[2:8:2])\n",
    "print(\"x[:8] is \", x[:8])\n",
    "print(\"x[:] is \", x[:])\n",
    "print(\"x[9:] is \", x[9:])\n",
    "print(\"x[::-1] is \", x[::-1])"
   ]
  },
  {
   "cell_type": "markdown",
   "id": "c7b354ba",
   "metadata": {},
   "source": [
    "### 2.3.2  String Methods\n",
    "\n",
    "Besides being:\n",
    "* a variable\n",
    "* a container\n",
    "\n",
    "a string is also:\n",
    "* an object\n",
    "\n",
    "Since it's an object, it has **many** useful methods.  It's worthwhile to bookmark this page: https://docs.python.org/3/library/stdtypes.html#string-methods\n",
    "\n",
    "Here are a few of them:"
   ]
  },
  {
   "cell_type": "code",
   "execution_count": 19,
   "id": "b4e9170e",
   "metadata": {},
   "outputs": [
    {
     "name": "stdout",
     "output_type": "stream",
     "text": [
      "ubrucudubru\n",
      "ABRACADABRA\n",
      "Abracadabra\n",
      "UBRUCUDUBRU\n",
      "True\n",
      "False\n"
     ]
    }
   ],
   "source": [
    "x = \"abracadabra\"\n",
    "\n",
    "print(x.replace(\"a\", \"u\"))\n",
    "\n",
    "print(x.upper())\n",
    "\n",
    "print(x.capitalize())\n",
    "\n",
    "print(x.replace(\"a\", \"u\").upper())\n",
    "\n",
    "print(x.isalpha())\n",
    "\n",
    "print(x.isdigit())"
   ]
  },
  {
   "cell_type": "markdown",
   "id": "99eae063",
   "metadata": {},
   "source": [
    "The `find` command can be used to make context-dependent substitutions:"
   ]
  },
  {
   "cell_type": "code",
   "execution_count": 20,
   "id": "3f1c6b54",
   "metadata": {},
   "outputs": [
    {
     "name": "stdout",
     "output_type": "stream",
     "text": [
      "4\n",
      "6\n",
      "abracadabra\n",
      "abrakibbledabra\n"
     ]
    }
   ],
   "source": [
    "x = \"abracadabra\"\n",
    "location1 = x.find(\"cad\")\n",
    "location2 = x.find(\"dab\")\n",
    "print(location1)\n",
    "print(location2)\n",
    "print(x)\n",
    "print(x[:location1] + \"kibble\" + x[location2:])"
   ]
  },
  {
   "cell_type": "markdown",
   "id": "4f4342ba",
   "metadata": {},
   "source": [
    "The `split` command splits a string into a `list` of words (we'll learn about `list`s next).  By default, it splits at whitespace, but you can specify other places to split.\n",
    "\n",
    "The `join` command places the specified string between the words of a list."
   ]
  },
  {
   "cell_type": "code",
   "execution_count": 21,
   "id": "0752a483",
   "metadata": {},
   "outputs": [
    {
     "name": "stdout",
     "output_type": "stream",
     "text": [
      "This is a test string\n",
      "['This', 'is', 'a', 'test', 'string']\n",
      "['This', 'is', 'a', 'new', 'string']\n",
      "This +++ is +++ a +++ new +++ string\n"
     ]
    }
   ],
   "source": [
    "x = \"This is a test string\"\n",
    "print(x)\n",
    "listofwords = x.split()\n",
    "print(listofwords)\n",
    "listofwords[3] = \"new\"\n",
    "print(listofwords)\n",
    "print(\" +++ \".join(listofwords))"
   ]
  },
  {
   "cell_type": "markdown",
   "id": "9cab4906",
   "metadata": {},
   "source": [
    "## 2.4 and 2.6: Lists and Tuples\n",
    "\n",
    "### 2.4.1 Create a list or tuple\n",
    "\n",
    "`list`s and `tuple`s, in python, are sequences of objects.  The objects can be of any type.\n",
    "\n",
    "There is a special syntax for creating `list`s and `tuple`s: \n",
    "* To create a `list`, we use the symbol `[` to start the list, and the symbol `]` to end it.\n",
    "* To create a `tuple`, we use the symbol `(` to start the typle, and the symbol `)` to end it."
   ]
  },
  {
   "cell_type": "code",
   "execution_count": 22,
   "id": "f1f91d88",
   "metadata": {},
   "outputs": [
    {
     "name": "stdout",
     "output_type": "stream",
     "text": [
      "[1, 2, 3, 'hello', 'world', True, True, False]\n",
      "(1, 2, 3, 'hello', 'world', True, True, False)\n"
     ]
    }
   ],
   "source": [
    "list1 = [ 1, 2, 3, \"hello\", \"world\", True, True, False ]\n",
    "print(list1)\n",
    "\n",
    "tuple1 = ( 1, 2, 3, \"hello\", \"world\", True, True, False )\n",
    "print(tuple1)"
   ]
  },
  {
   "cell_type": "markdown",
   "id": "a7ca52f4",
   "metadata": {},
   "source": [
    "You can also create lists and tuples in other ways.  For example, you can convert a string into either a list or a tuple:"
   ]
  },
  {
   "cell_type": "code",
   "execution_count": 23,
   "id": "9d3ee7b6",
   "metadata": {},
   "outputs": [
    {
     "name": "stdout",
     "output_type": "stream",
     "text": [
      "['T', 'h', 'i', 's', ' ', 'i', 's', ' ', 'a', ' ', 's', 't', 'r', 'i', 'n', 'g']\n",
      "('T', 'h', 'i', 's', ' ', 'i', 's', ' ', 'a', ' ', 's', 't', 'r', 'i', 'n', 'g')\n"
     ]
    }
   ],
   "source": [
    "string2 = \"This is a string\"\n",
    "list2 = list(string2)\n",
    "tuple2 = tuple(string2)\n",
    "print(list2)\n",
    "print(tuple2)"
   ]
  },
  {
   "cell_type": "markdown",
   "id": "43d90185",
   "metadata": {},
   "source": [
    "You can create an empty list or tuple using the syntax `[]` or `()`:"
   ]
  },
  {
   "cell_type": "code",
   "execution_count": 24,
   "id": "3c296389",
   "metadata": {},
   "outputs": [
    {
     "name": "stdout",
     "output_type": "stream",
     "text": [
      "The list  [] has a length of 0\n",
      "The tuple  () has a length of 0\n"
     ]
    }
   ],
   "source": [
    "empty_list = []\n",
    "empty_tuple = ()\n",
    "print(\"The list \", empty_list, \"has a length of\", len(empty_list))\n",
    "print(\"The tuple \", empty_tuple, \"has a length of\", len(empty_tuple))"
   ]
  },
  {
   "cell_type": "markdown",
   "id": "f783053c",
   "metadata": {},
   "source": [
    "### 2.4.2 Indexing a list or a tuple\n",
    "\n",
    "If you index a list or a tuple with a single integer, then you get the object at that place in the list or tuple:"
   ]
  },
  {
   "cell_type": "code",
   "execution_count": 25,
   "id": "f81db4bb",
   "metadata": {},
   "outputs": [
    {
     "name": "stdout",
     "output_type": "stream",
     "text": [
      "hello\n",
      "hello\n"
     ]
    }
   ],
   "source": [
    "print(list1[3])\n",
    "print(tuple1[3])"
   ]
  },
  {
   "cell_type": "markdown",
   "id": "867de418",
   "metadata": {},
   "source": [
    "If you slice a list or tuple, you get another list or tuple:"
   ]
  },
  {
   "cell_type": "code",
   "execution_count": 26,
   "id": "5329a008",
   "metadata": {},
   "outputs": [
    {
     "name": "stdout",
     "output_type": "stream",
     "text": [
      "[3, 'hello', 'world']\n",
      "(3, 'hello', 'world')\n"
     ]
    }
   ],
   "source": [
    "print(list1[2:5])\n",
    "print(tuple1[2:5])"
   ]
  },
  {
   "cell_type": "markdown",
   "id": "a3de7d74",
   "metadata": {},
   "source": [
    "**The difference between lists and tuples:**\n",
    "\n",
    "* You can change the contents of a list\n",
    "* You cannot change the contents of a tuple, after it has been created\n"
   ]
  },
  {
   "cell_type": "code",
   "execution_count": 27,
   "id": "bcb28dde",
   "metadata": {},
   "outputs": [
    {
     "name": "stdout",
     "output_type": "stream",
     "text": [
      "[1, 2, 3, 'hello', 'Kyoto', True, True, False]\n"
     ]
    }
   ],
   "source": [
    "list1[4] = \"Kyoto\"\n",
    "print(list1)"
   ]
  },
  {
   "cell_type": "code",
   "execution_count": 28,
   "id": "6489e792",
   "metadata": {},
   "outputs": [
    {
     "ename": "TypeError",
     "evalue": "'tuple' object does not support item assignment",
     "output_type": "error",
     "traceback": [
      "\u001b[0;31m---------------------------------------------------------------------------\u001b[0m",
      "\u001b[0;31mTypeError\u001b[0m                                 Traceback (most recent call last)",
      "Input \u001b[0;32mIn [28]\u001b[0m, in \u001b[0;36m<cell line: 1>\u001b[0;34m()\u001b[0m\n\u001b[0;32m----> 1\u001b[0m tuple1[\u001b[38;5;241m4\u001b[39m] \u001b[38;5;241m=\u001b[39m \u001b[38;5;124m\"\u001b[39m\u001b[38;5;124mKyoto\u001b[39m\u001b[38;5;124m\"\u001b[39m\n\u001b[1;32m      2\u001b[0m \u001b[38;5;28mprint\u001b[39m(tuple1)\n",
      "\u001b[0;31mTypeError\u001b[0m: 'tuple' object does not support item assignment"
     ]
    }
   ],
   "source": [
    "tuple1[4] = \"Kyoto\"\n",
    "print(tuple1)"
   ]
  },
  {
   "cell_type": "markdown",
   "id": "9e12a85d",
   "metadata": {},
   "source": [
    "### 2.4.3 Adding and Multiplying Lists or Tuples\n",
    "\n",
    "Adding or multiplying lists or tuples is the same as adding or multiplying strings:"
   ]
  },
  {
   "cell_type": "code",
   "execution_count": null,
   "id": "3f1f9207",
   "metadata": {},
   "outputs": [],
   "source": [
    "list3 = ['a', 'b', 'c']\n",
    "tuple3 = ('a', 'b', 'c')\n",
    "\n",
    "print(list1+list3)\n",
    "print(tuple1 + tuple3)\n",
    "print(list3*2)\n",
    "print(tuple3*2)"
   ]
  },
  {
   "cell_type": "markdown",
   "id": "739e1a97",
   "metadata": {},
   "source": [
    "### 2.4.4 List Methods\n",
    "\n",
    "* List methods are here: https://docs.python.org/3/tutorial/datastructures.html\n",
    "\n",
    "Here are a few of the most useful ones:"
   ]
  },
  {
   "cell_type": "code",
   "execution_count": null,
   "id": "3cc8aae0",
   "metadata": {},
   "outputs": [],
   "source": [
    "for x, s in enumerate(list1):\n",
    "    print(x,s)"
   ]
  },
  {
   "cell_type": "code",
   "execution_count": null,
   "id": "68b453bc",
   "metadata": {},
   "outputs": [],
   "source": [
    "list1.append(\"a long string to put at the end\")\n",
    "print(list1)\n",
    "\n",
    "empty_list.append(\"a\")\n",
    "empty_list.append(\"b\")\n",
    "empty_list.append(\"c\")\n",
    "print(\"The formerly empty list is now\", empty_list, \"and has a length of\", len(empty_list))"
   ]
  },
  {
   "cell_type": "code",
   "execution_count": null,
   "id": "1979c634",
   "metadata": {},
   "outputs": [],
   "source": [
    "sentence = \"hello, this is a sentence\"\n",
    "wordlist = sentence.split()\n",
    "print(wordlist)\n",
    "wordlist.sort()\n",
    "print(wordlist)"
   ]
  },
  {
   "cell_type": "code",
   "execution_count": null,
   "id": "ee754082",
   "metadata": {},
   "outputs": [],
   "source": [
    "print(\"the length of list1 is\", len(list1))\n",
    "for n in range(len(list1)):\n",
    "    print(n, list1[n])"
   ]
  },
  {
   "cell_type": "markdown",
   "id": "1c5d4fcf",
   "metadata": {},
   "source": [
    "## 2.5 Dictionaries\n",
    "\n",
    "A `dict` is like a list, except that instead of being indexed by integers, you can use almost anything as the index.\n",
    "\n",
    "### 2.5.1 Creating Dictionaries, and Accessing Elements in a Dictionary\n",
    "\n",
    "* There is a special syntax to create a `dict`: you put `{` at the beginning, and `}` at the end.\n",
    "* Since the key for each element of a `dict` is up to you, you need to specify it.  This is done by writing a colon between pairs of `key` and `value`.\n",
    "* Once you have created a `dict` in this way, you can use the `key` to access the `value`."
   ]
  },
  {
   "cell_type": "code",
   "execution_count": null,
   "id": "287bdddc",
   "metadata": {},
   "outputs": [],
   "source": [
    "dict1 = { 0: \"value number 0\", \"some key\" : 35 }\n",
    "print(dict1)\n",
    "\n",
    "print(dict1[0])\n",
    "print(dict1[\"some key\"])"
   ]
  },
  {
   "cell_type": "markdown",
   "id": "710ed6a1",
   "metadata": {},
   "source": [
    "### 2.5.2 Use Dictionary Methods\n",
    "\n",
    "One of the most useful things to do with a dictionary is to iterate over its elements.  Here are the three iterators:\n",
    "\n",
    "* `.keys()` gives you an iterator over the dictionary's keys\n",
    "* `.values()` gives you an iterator over the dictionary's values\n",
    "* `.items()` gives you an iterator over (key, value) tuples"
   ]
  },
  {
   "cell_type": "code",
   "execution_count": null,
   "id": "ebe265b3",
   "metadata": {},
   "outputs": [],
   "source": [
    "for n, k in enumerate(dict1.keys()):\n",
    "    print(\"Key number \", n, \" is \", k)"
   ]
  },
  {
   "cell_type": "code",
   "execution_count": null,
   "id": "fb07ca8c",
   "metadata": {},
   "outputs": [],
   "source": [
    "for n, k in enumerate(dict1.values()):\n",
    "    print(\"Value number \", n, \" is \", k)"
   ]
  },
  {
   "cell_type": "code",
   "execution_count": null,
   "id": "53310080",
   "metadata": {},
   "outputs": [],
   "source": [
    "for n, k in enumerate(dict1.items()):\n",
    "    print(\"Item number \", n, \" is \", k)"
   ]
  },
  {
   "cell_type": "markdown",
   "id": "fca1e634",
   "metadata": {},
   "source": [
    "## 2.7  Functions"
   ]
  },
  {
   "cell_type": "markdown",
   "id": "aeb3a1dd",
   "metadata": {},
   "source": [
    "### 2.7.1 Built-In Functions\n",
    "\n",
    "The built-in functions are listed here: https://docs.python.org/3/library/functions.html\n",
    "\n",
    "A useful one that we haven't seen before is `input`.  `input` is used to ask the user for a string."
   ]
  },
  {
   "cell_type": "code",
   "execution_count": null,
   "id": "56e91dfb",
   "metadata": {},
   "outputs": [],
   "source": [
    "\n",
    "s = input(\"Please type a string\")\n",
    "print(\"You typed\", s)"
   ]
  },
  {
   "cell_type": "markdown",
   "id": "20a5a05f",
   "metadata": {},
   "source": [
    "### 2.7.2 Define Your Own Functions\n",
    "\n",
    "If you want to define your own function, you use the `def` command to do so:\n",
    "* Start a line with `def`, then the name of the function (and its parameters), then :\n",
    "* Indent the next line.  All following indented lines will be part of the function definition.\n",
    "* Any line that's **not** indented will end the function definition."
   ]
  },
  {
   "cell_type": "code",
   "execution_count": null,
   "id": "ef501a8d",
   "metadata": {},
   "outputs": [],
   "source": [
    "def my_first_function(promptstring):\n",
    "    \"\"\"\n",
    "    This is a function that prompts the user for input, and then shows them what they typed.\n",
    "    \"\"\"\n",
    "    s = input(promptstring)\n",
    "    print(\"\")\n",
    "    print(\"You typed\", s)\n",
    "    \n",
    "print(\"This line is not part of the function definition\")"
   ]
  },
  {
   "cell_type": "markdown",
   "id": "b3ee435a",
   "metadata": {},
   "source": [
    "If you type `help(my_first_function`, you will see the `docstring` that you put at the beginning of the function:"
   ]
  },
  {
   "cell_type": "code",
   "execution_count": null,
   "id": "bede41c1",
   "metadata": {},
   "outputs": [],
   "source": [
    "help(my_first_function)"
   ]
  },
  {
   "cell_type": "markdown",
   "id": "a3b1271e",
   "metadata": {},
   "source": [
    "* In order to call the function, just type its name, then parentheses.\n",
    "* If the function has any parameters, be sure to tell it what values to use!"
   ]
  },
  {
   "cell_type": "code",
   "execution_count": null,
   "id": "d031942d",
   "metadata": {},
   "outputs": [],
   "source": [
    "my_first_function(\"Hello!  What do you want to talk about?\")"
   ]
  },
  {
   "cell_type": "markdown",
   "id": "333db217",
   "metadata": {},
   "source": [
    "If you want your function to have a return value, you simply need to specify that using the `return` command.  "
   ]
  },
  {
   "cell_type": "code",
   "execution_count": null,
   "id": "6cbad605",
   "metadata": {},
   "outputs": [],
   "source": [
    "def my_second_function(promptstring):\n",
    "    \"\"\"\n",
    "    This is a function that prompts the user for input, and then returns their input.\n",
    "    \"\"\"\n",
    "    s = input(promptstring)\n",
    "    return(s)"
   ]
  },
  {
   "cell_type": "code",
   "execution_count": null,
   "id": "75a91b91",
   "metadata": {},
   "outputs": [],
   "source": [
    "x = my_second_function(\"Please type something:\")\n",
    "print(\"\")\n",
    "print(\"The value returned was: \", x)"
   ]
  },
  {
   "cell_type": "markdown",
   "id": "eee84632",
   "metadata": {},
   "source": [
    "## 2.8 Modules\n"
   ]
  },
  {
   "cell_type": "markdown",
   "id": "b04f7374",
   "metadata": {},
   "source": [
    "* Last time, we saw how to define our own module, and import it using the `import` command\n",
    "* The **main reason** python is so popular is because there are a **huge** number of modules available\n",
    "* Every installation of python comes with the modules listed in the standard library: https://docs.python.org/3/library/\n",
    "* In addition, anaconda also includes these modules: https://towardsdatascience.com/an-overview-of-the-anaconda-distribution-9479ff1859e6\n",
    "* If you find a module online (for example, at https://pypi.org/), and want to install it, usually you just need to go to a terminal, and type `pip install <packagename>`.\n",
    "\n",
    "For example, you can use the `math` module to get mathematical operations:"
   ]
  },
  {
   "cell_type": "code",
   "execution_count": null,
   "id": "d765f00a",
   "metadata": {},
   "outputs": [],
   "source": [
    "import math\n",
    "\n",
    "print(\"The cosine of pi/6 is \", math.cos(math.pi/6))"
   ]
  },
  {
   "cell_type": "markdown",
   "id": "4e6b32d4",
   "metadata": {},
   "source": [
    "## Homework for Week 3"
   ]
  },
  {
   "cell_type": "markdown",
   "id": "7a9eeaa5",
   "metadata": {},
   "source": [
    "Homework will be autograded on Gradescope.\n",
    "\n",
    "1. Create a script called `homework3.py`.  \n",
    "2. In it, define the functions described in the rest of this section.  \n",
    "3. Test your functions using the test sections shown below.\n",
    "4. When your functions seem to be working, go to Gradescope, click `Homework Assignment 3`, click `submit`, and submit your file `homework3.py`.\n",
    "5. If you get less than 100%, please fix the mistakes and try again!\n",
    "\n",
    "Here are the functions that should be defined by your file `homework3.py`:"
   ]
  },
  {
   "cell_type": "markdown",
   "id": "0da0f3b8",
   "metadata": {},
   "source": [
    "### Homework Problem 3.1\n",
    "\n",
    "Create a function called `cancellation(input_list, stop_word)`.  Your function should create an empty list called `output_list`.  Then it should copy elements one by one from `input_list` into `output_list` (hint: use a for loop).  If one of the elements is equal to the `stop_word`, then you should stop the function, and return what you have so far (hint: you can use `break` for this.  There are also other ways to do it).\n",
    "\n",
    "Usage example:\n",
    "\n",
    "* `cancellation([3, 4, 5, 6, 7, 8], 2)` should return `[3, 4, 5, 6, 7, 8]`.\n",
    "* `cancellation([3, 4, 5, 6, 7, 8], 6)` should return `[3, 4, 5]`.\n",
    "* `cancellation([3.14, \"a\", True, \"b\", 7, -45.3], \"b\")` should return `[3.14, \"a\", True]`\n",
    "* `cancellation([\"a\", \"b\", \"c\"], \"a\")` should return `[]`\n",
    "* `cancellation([], \"a\")` should return `[]`\n",
    "\n",
    "Test your code here:\n"
   ]
  },
  {
   "cell_type": "code",
   "execution_count": 40,
   "id": "ee5b849e",
   "metadata": {},
   "outputs": [
    {
     "name": "stdout",
     "output_type": "stream",
     "text": [
      "[]\n"
     ]
    }
   ],
   "source": [
    "import homework3, importlib\n",
    "importlib.reload(homework3)\n",
    "print(homework3.cancellation([], \"a\"))"
   ]
  },
  {
   "cell_type": "markdown",
   "id": "d8a2ce2e",
   "metadata": {},
   "source": [
    "### Homework Problem 3.2\n",
    "\n",
    "Create a function called `copy_all_but_skip_word(input_list, skip_word)`.  Your function should create an empty list called `output_list`.  Then it should copy elements one by one from `input_list` into `output_list` (hint: use a for loop).  If one of the elements is equal to the `skip_word`, then you should skip that element, but keep checking all of the other elements. \n",
    "\n",
    "Usage example:\n",
    "\n",
    "* `copy_all_but_skip_word([3, 4, 5, 6, 7, 8, 3, 4, 5], 2)` should return `[3, 4, 5, 6, 7, 8, 3, 4, 5]`.\n",
    "* `copy_all_but_skip_word([3.14, 4, \"a\", 6, 7, \"b\", 3, 4, 5], 6)` should return `[3.14, 4, \"a\", 7, \"b\", 3, 4, 5]`.\n",
    "* `copy_all_but_skip_word([3, \"a\", 5, 6, 7, \"b\", 3, \"b\", 5], \"a\")` should return `[3, 5, 6, 7, \"b\", 3, 5]`.\n",
    "* `copy_all_but_skip_word([\"a\", \"a\", \"a\"], \"a\")` should return `[]`\n",
    "* `copy_all_but_skip_word([], \"a\")` should return `[]`\n",
    "\n",
    "Test your code here:"
   ]
  },
  {
   "cell_type": "code",
   "execution_count": 42,
   "id": "dbd444dd",
   "metadata": {},
   "outputs": [
    {
     "name": "stdout",
     "output_type": "stream",
     "text": [
      "[3.14, 4, 'a', 7, 'b', 3, 4, 5]\n"
     ]
    }
   ],
   "source": [
    "import homework3, importlib\n",
    "importlib.reload(homework3)\n",
    "print(homework3.copy_all_but_skip_word([3.14, 4, \"a\", 6, 7, \"b\", 3, 4, 5], 6))"
   ]
  },
  {
   "cell_type": "markdown",
   "id": "197aa17d",
   "metadata": {},
   "source": [
    "### Homework Problem 3.3\n",
    "\n",
    "Create a function called `my_average(input_list)`.  You may assume that `input_list` is a non-empty list, in which every element is a number.  Calculate the average value, and return it. \n",
    "\n",
    "Usage examples:\n",
    "\n",
    "* `my_average([84, 61, 99])` should return `81.333333333`\n",
    "* `my_average([ 0.31147488, -0.18365408,  0.27358631, 5])` should return `1.350351775289537`\n",
    "* `my_average([])` --- this case will never occur, so you need not address it\n",
    "* `my_average([1, 2.4, \"a\"]` --- this case will never occur, so you need not address it\n",
    "\n",
    "Warning: \n",
    "* This can be done without importing any modules, however...\n",
    "* If you want to import any modules in the [standard library](https://docs.python.org/3/library/) (e.g., [math](https://docs.python.org/3/library/math.html)), you may.\n",
    "* Please **do not use** `numpy`.  It will not be available on the autograder, so if you try to use it, your code will fail.\n",
    "* Don't use the word `sum` as the name of any of your variables; it is a reserved keyword.\n",
    "\n",
    "Test your code here:"
   ]
  },
  {
   "cell_type": "code",
   "execution_count": 44,
   "id": "00962b42",
   "metadata": {},
   "outputs": [
    {
     "name": "stdout",
     "output_type": "stream",
     "text": [
      "1.3503517775\n"
     ]
    }
   ],
   "source": [
    "import homework3, importlib\n",
    "importlib.reload(homework3)\n",
    "print(homework3.my_average([ 0.31147488, -0.18365408,  0.27358631, 5]))"
   ]
  },
  {
   "cell_type": "markdown",
   "id": "ab7214ef",
   "metadata": {},
   "source": [
    "### Homework Problem 3.4\n",
    "\n",
    "Create a function called `list_to_dict(input_list)`.  Your function should return a dictionary in which each element of `input_list` is a value, and the corresponding key is the numerical index of that element in `input_list`. \n",
    "\n",
    "Usage examples:\n",
    "\n",
    "* `list_to_dict([1, 3.14, \"hello\", True])` should return `{ 0:1, 1:3.14, 2:\"hello\", 3:True }`.\n",
    "* `list_to_dict([\"a\", \"a\", \"a\"])` should return `{0:\"a\", 1:\"a\", 2:\"a\"}`\n",
    "* `list_to_dict([])` should return `{}`\n",
    "\n",
    "Test your code here:"
   ]
  },
  {
   "cell_type": "code",
   "execution_count": 32,
   "id": "79abae8f",
   "metadata": {},
   "outputs": [
    {
     "name": "stdout",
     "output_type": "stream",
     "text": [
      "{0: 1, 1: 3.14, 2: 'hello', 3: True}\n"
     ]
    }
   ],
   "source": [
    "import homework3, importlib\n",
    "importlib.reload(homework3)\n",
    "print(homework3.list_to_dict([1, 3.14, \"hello\", True]))"
   ]
  },
  {
   "cell_type": "code",
   "execution_count": null,
   "id": "812b593e",
   "metadata": {},
   "outputs": [],
   "source": []
  }
 ],
 "metadata": {
  "kernelspec": {
   "display_name": "Python 3 (ipykernel)",
   "language": "python",
   "name": "python3"
  },
  "language_info": {
   "codemirror_mode": {
    "name": "ipython",
    "version": 3
   },
   "file_extension": ".py",
   "mimetype": "text/x-python",
   "name": "python",
   "nbconvert_exporter": "python",
   "pygments_lexer": "ipython3",
   "version": "3.9.12"
  }
 },
 "nbformat": 4,
 "nbformat_minor": 5
}
